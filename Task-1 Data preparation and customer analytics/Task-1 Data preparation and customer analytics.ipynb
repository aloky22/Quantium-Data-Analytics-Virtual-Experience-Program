{
 "cells": [
  {
   "cell_type": "markdown",
   "metadata": {},
   "source": [
    "# Data Analytics Virtual Experience Program - Quantium\n",
    "\n",
    "# By - Alok Yadav"
   ]
  },
  {
   "cell_type": "markdown",
   "metadata": {},
   "source": [
    "## Task -1 Data preparation and customer analytics\n"
   ]
  },
  {
   "cell_type": "code",
   "execution_count": 183,
   "metadata": {},
   "outputs": [],
   "source": [
    "# import libraries\n",
    "import pandas as pd\n",
    "import numpy as np\n",
    "import matplotlib.pyplot as plt\n",
    "%matplotlib inline\n",
    "import seaborn as sns\n"
   ]
  },
  {
   "cell_type": "code",
   "execution_count": 184,
   "metadata": {},
   "outputs": [],
   "source": [
    "# importing purchase data \n",
    "purchase_data = pd.read_csv(\"D:/dataset/QVI_purchase_behaviour.csv\")"
   ]
  },
  {
   "cell_type": "code",
   "execution_count": 185,
   "metadata": {
    "scrolled": true
   },
   "outputs": [
    {
     "data": {
      "text/html": [
       "<div>\n",
       "<style scoped>\n",
       "    .dataframe tbody tr th:only-of-type {\n",
       "        vertical-align: middle;\n",
       "    }\n",
       "\n",
       "    .dataframe tbody tr th {\n",
       "        vertical-align: top;\n",
       "    }\n",
       "\n",
       "    .dataframe thead th {\n",
       "        text-align: right;\n",
       "    }\n",
       "</style>\n",
       "<table border=\"1\" class=\"dataframe\">\n",
       "  <thead>\n",
       "    <tr style=\"text-align: right;\">\n",
       "      <th></th>\n",
       "      <th>LYLTY_CARD_NBR</th>\n",
       "      <th>LIFESTAGE</th>\n",
       "      <th>PREMIUM_CUSTOMER</th>\n",
       "    </tr>\n",
       "  </thead>\n",
       "  <tbody>\n",
       "    <tr>\n",
       "      <th>0</th>\n",
       "      <td>1000</td>\n",
       "      <td>YOUNG SINGLES/COUPLES</td>\n",
       "      <td>Premium</td>\n",
       "    </tr>\n",
       "    <tr>\n",
       "      <th>1</th>\n",
       "      <td>1002</td>\n",
       "      <td>YOUNG SINGLES/COUPLES</td>\n",
       "      <td>Mainstream</td>\n",
       "    </tr>\n",
       "    <tr>\n",
       "      <th>2</th>\n",
       "      <td>1003</td>\n",
       "      <td>YOUNG FAMILIES</td>\n",
       "      <td>Budget</td>\n",
       "    </tr>\n",
       "    <tr>\n",
       "      <th>3</th>\n",
       "      <td>1004</td>\n",
       "      <td>OLDER SINGLES/COUPLES</td>\n",
       "      <td>Mainstream</td>\n",
       "    </tr>\n",
       "    <tr>\n",
       "      <th>4</th>\n",
       "      <td>1005</td>\n",
       "      <td>MIDAGE SINGLES/COUPLES</td>\n",
       "      <td>Mainstream</td>\n",
       "    </tr>\n",
       "  </tbody>\n",
       "</table>\n",
       "</div>"
      ],
      "text/plain": [
       "   LYLTY_CARD_NBR               LIFESTAGE PREMIUM_CUSTOMER\n",
       "0            1000   YOUNG SINGLES/COUPLES          Premium\n",
       "1            1002   YOUNG SINGLES/COUPLES       Mainstream\n",
       "2            1003          YOUNG FAMILIES           Budget\n",
       "3            1004   OLDER SINGLES/COUPLES       Mainstream\n",
       "4            1005  MIDAGE SINGLES/COUPLES       Mainstream"
      ]
     },
     "execution_count": 185,
     "metadata": {},
     "output_type": "execute_result"
    }
   ],
   "source": [
    "purchase_data.head()"
   ]
  },
  {
   "cell_type": "code",
   "execution_count": 186,
   "metadata": {},
   "outputs": [
    {
     "data": {
      "text/plain": [
       "(72637, 3)"
      ]
     },
     "execution_count": 186,
     "metadata": {},
     "output_type": "execute_result"
    }
   ],
   "source": [
    "purchase_data.shape"
   ]
  },
  {
   "cell_type": "markdown",
   "metadata": {},
   "source": [
    "#### this data contains three column and 72637 rows "
   ]
  },
  {
   "cell_type": "code",
   "execution_count": 187,
   "metadata": {},
   "outputs": [
    {
     "name": "stdout",
     "output_type": "stream",
     "text": [
      "<class 'pandas.core.frame.DataFrame'>\n",
      "RangeIndex: 72637 entries, 0 to 72636\n",
      "Data columns (total 3 columns):\n",
      " #   Column            Non-Null Count  Dtype \n",
      "---  ------            --------------  ----- \n",
      " 0   LYLTY_CARD_NBR    72637 non-null  int64 \n",
      " 1   LIFESTAGE         72637 non-null  object\n",
      " 2   PREMIUM_CUSTOMER  72637 non-null  object\n",
      "dtypes: int64(1), object(2)\n",
      "memory usage: 1.7+ MB\n"
     ]
    }
   ],
   "source": [
    "purchase_data.info()"
   ]
  },
  {
   "cell_type": "code",
   "execution_count": 188,
   "metadata": {},
   "outputs": [
    {
     "data": {
      "text/plain": [
       "LYLTY_CARD_NBR      0\n",
       "LIFESTAGE           0\n",
       "PREMIUM_CUSTOMER    0\n",
       "dtype: int64"
      ]
     },
     "execution_count": 188,
     "metadata": {},
     "output_type": "execute_result"
    }
   ],
   "source": [
    "purchase_data.isna().sum()"
   ]
  },
  {
   "cell_type": "code",
   "execution_count": 189,
   "metadata": {},
   "outputs": [],
   "source": [
    "# no missing values in this"
   ]
  },
  {
   "cell_type": "code",
   "execution_count": 190,
   "metadata": {},
   "outputs": [
    {
     "data": {
      "text/plain": [
       "0"
      ]
     },
     "execution_count": 190,
     "metadata": {},
     "output_type": "execute_result"
    }
   ],
   "source": [
    "purchase_data.duplicated().sum() # no duplicate"
   ]
  },
  {
   "cell_type": "code",
   "execution_count": 191,
   "metadata": {},
   "outputs": [
    {
     "data": {
      "text/plain": [
       "array(['YOUNG SINGLES/COUPLES', 'YOUNG FAMILIES', 'OLDER SINGLES/COUPLES',\n",
       "       'MIDAGE SINGLES/COUPLES', 'NEW FAMILIES', 'OLDER FAMILIES',\n",
       "       'RETIREES'], dtype=object)"
      ]
     },
     "execution_count": 191,
     "metadata": {},
     "output_type": "execute_result"
    }
   ],
   "source": [
    "purchase_data['LIFESTAGE'].unique()"
   ]
  },
  {
   "cell_type": "code",
   "execution_count": 192,
   "metadata": {},
   "outputs": [
    {
     "data": {
      "text/plain": [
       "array(['Premium', 'Mainstream', 'Budget'], dtype=object)"
      ]
     },
     "execution_count": 192,
     "metadata": {},
     "output_type": "execute_result"
    }
   ],
   "source": [
    "purchase_data['PREMIUM_CUSTOMER'].unique()"
   ]
  },
  {
   "cell_type": "markdown",
   "metadata": {},
   "source": [
    "# Data Preparation for  transaction_data"
   ]
  },
  {
   "cell_type": "code",
   "execution_count": 193,
   "metadata": {},
   "outputs": [],
   "source": [
    "#importing Transactions data which was in xlsx format\n",
    "transaction_data = pd.read_excel(\"D:/dataset/QVI_transaction_data.xlsx\")"
   ]
  },
  {
   "cell_type": "code",
   "execution_count": 194,
   "metadata": {},
   "outputs": [
    {
     "data": {
      "text/html": [
       "<div>\n",
       "<style scoped>\n",
       "    .dataframe tbody tr th:only-of-type {\n",
       "        vertical-align: middle;\n",
       "    }\n",
       "\n",
       "    .dataframe tbody tr th {\n",
       "        vertical-align: top;\n",
       "    }\n",
       "\n",
       "    .dataframe thead th {\n",
       "        text-align: right;\n",
       "    }\n",
       "</style>\n",
       "<table border=\"1\" class=\"dataframe\">\n",
       "  <thead>\n",
       "    <tr style=\"text-align: right;\">\n",
       "      <th></th>\n",
       "      <th>DATE</th>\n",
       "      <th>STORE_NBR</th>\n",
       "      <th>LYLTY_CARD_NBR</th>\n",
       "      <th>TXN_ID</th>\n",
       "      <th>PROD_NBR</th>\n",
       "      <th>PROD_NAME</th>\n",
       "      <th>PROD_QTY</th>\n",
       "      <th>TOT_SALES</th>\n",
       "    </tr>\n",
       "  </thead>\n",
       "  <tbody>\n",
       "    <tr>\n",
       "      <th>0</th>\n",
       "      <td>43390</td>\n",
       "      <td>1</td>\n",
       "      <td>1000</td>\n",
       "      <td>1</td>\n",
       "      <td>5</td>\n",
       "      <td>Natural Chip        Compny SeaSalt175g</td>\n",
       "      <td>2</td>\n",
       "      <td>6.0</td>\n",
       "    </tr>\n",
       "    <tr>\n",
       "      <th>1</th>\n",
       "      <td>43599</td>\n",
       "      <td>1</td>\n",
       "      <td>1307</td>\n",
       "      <td>348</td>\n",
       "      <td>66</td>\n",
       "      <td>CCs Nacho Cheese    175g</td>\n",
       "      <td>3</td>\n",
       "      <td>6.3</td>\n",
       "    </tr>\n",
       "    <tr>\n",
       "      <th>2</th>\n",
       "      <td>43605</td>\n",
       "      <td>1</td>\n",
       "      <td>1343</td>\n",
       "      <td>383</td>\n",
       "      <td>61</td>\n",
       "      <td>Smiths Crinkle Cut  Chips Chicken 170g</td>\n",
       "      <td>2</td>\n",
       "      <td>2.9</td>\n",
       "    </tr>\n",
       "    <tr>\n",
       "      <th>3</th>\n",
       "      <td>43329</td>\n",
       "      <td>2</td>\n",
       "      <td>2373</td>\n",
       "      <td>974</td>\n",
       "      <td>69</td>\n",
       "      <td>Smiths Chip Thinly  S/Cream&amp;Onion 175g</td>\n",
       "      <td>5</td>\n",
       "      <td>15.0</td>\n",
       "    </tr>\n",
       "    <tr>\n",
       "      <th>4</th>\n",
       "      <td>43330</td>\n",
       "      <td>2</td>\n",
       "      <td>2426</td>\n",
       "      <td>1038</td>\n",
       "      <td>108</td>\n",
       "      <td>Kettle Tortilla ChpsHny&amp;Jlpno Chili 150g</td>\n",
       "      <td>3</td>\n",
       "      <td>13.8</td>\n",
       "    </tr>\n",
       "  </tbody>\n",
       "</table>\n",
       "</div>"
      ],
      "text/plain": [
       "    DATE  STORE_NBR  LYLTY_CARD_NBR  TXN_ID  PROD_NBR  \\\n",
       "0  43390          1            1000       1         5   \n",
       "1  43599          1            1307     348        66   \n",
       "2  43605          1            1343     383        61   \n",
       "3  43329          2            2373     974        69   \n",
       "4  43330          2            2426    1038       108   \n",
       "\n",
       "                                  PROD_NAME  PROD_QTY  TOT_SALES  \n",
       "0    Natural Chip        Compny SeaSalt175g         2        6.0  \n",
       "1                  CCs Nacho Cheese    175g         3        6.3  \n",
       "2    Smiths Crinkle Cut  Chips Chicken 170g         2        2.9  \n",
       "3    Smiths Chip Thinly  S/Cream&Onion 175g         5       15.0  \n",
       "4  Kettle Tortilla ChpsHny&Jlpno Chili 150g         3       13.8  "
      ]
     },
     "execution_count": 194,
     "metadata": {},
     "output_type": "execute_result"
    }
   ],
   "source": [
    "transaction_data.head()"
   ]
  },
  {
   "cell_type": "code",
   "execution_count": 195,
   "metadata": {},
   "outputs": [
    {
     "data": {
      "text/plain": [
       "(264836, 8)"
      ]
     },
     "execution_count": 195,
     "metadata": {},
     "output_type": "execute_result"
    }
   ],
   "source": [
    "transaction_data.shape"
   ]
  },
  {
   "cell_type": "code",
   "execution_count": 196,
   "metadata": {},
   "outputs": [
    {
     "name": "stdout",
     "output_type": "stream",
     "text": [
      "<class 'pandas.core.frame.DataFrame'>\n",
      "RangeIndex: 264836 entries, 0 to 264835\n",
      "Data columns (total 8 columns):\n",
      " #   Column          Non-Null Count   Dtype  \n",
      "---  ------          --------------   -----  \n",
      " 0   DATE            264836 non-null  int64  \n",
      " 1   STORE_NBR       264836 non-null  int64  \n",
      " 2   LYLTY_CARD_NBR  264836 non-null  int64  \n",
      " 3   TXN_ID          264836 non-null  int64  \n",
      " 4   PROD_NBR        264836 non-null  int64  \n",
      " 5   PROD_NAME       264836 non-null  object \n",
      " 6   PROD_QTY        264836 non-null  int64  \n",
      " 7   TOT_SALES       264836 non-null  float64\n",
      "dtypes: float64(1), int64(6), object(1)\n",
      "memory usage: 16.2+ MB\n"
     ]
    }
   ],
   "source": [
    "transaction_data.info()"
   ]
  },
  {
   "cell_type": "code",
   "execution_count": 197,
   "metadata": {},
   "outputs": [
    {
     "data": {
      "text/plain": [
       "DATE              0\n",
       "STORE_NBR         0\n",
       "LYLTY_CARD_NBR    0\n",
       "TXN_ID            0\n",
       "PROD_NBR          0\n",
       "PROD_NAME         0\n",
       "PROD_QTY          0\n",
       "TOT_SALES         0\n",
       "dtype: int64"
      ]
     },
     "execution_count": 197,
     "metadata": {},
     "output_type": "execute_result"
    }
   ],
   "source": [
    "transaction_data.isna().sum() #no null values"
   ]
  },
  {
   "cell_type": "code",
   "execution_count": 198,
   "metadata": {},
   "outputs": [
    {
     "data": {
      "text/plain": [
       "1"
      ]
     },
     "execution_count": 198,
     "metadata": {},
     "output_type": "execute_result"
    }
   ],
   "source": [
    "transaction_data.duplicated().sum() # there is one duplicate row in the data"
   ]
  },
  {
   "cell_type": "code",
   "execution_count": 199,
   "metadata": {},
   "outputs": [],
   "source": [
    "# we will remove duplicate row\n",
    "transaction_data.drop_duplicates(inplace=True) # duplicate row deleting"
   ]
  },
  {
   "cell_type": "code",
   "execution_count": 200,
   "metadata": {},
   "outputs": [
    {
     "data": {
      "text/plain": [
       "0"
      ]
     },
     "execution_count": 200,
     "metadata": {},
     "output_type": "execute_result"
    }
   ],
   "source": [
    "# let's check againg\n",
    "transaction_data.duplicated().sum()"
   ]
  },
  {
   "cell_type": "markdown",
   "metadata": {},
   "source": [
    "## Date column is in integer for we will change it in date"
   ]
  },
  {
   "cell_type": "code",
   "execution_count": 201,
   "metadata": {},
   "outputs": [],
   "source": [
    "import datetime as dt\n"
   ]
  },
  {
   "cell_type": "code",
   "execution_count": 202,
   "metadata": {},
   "outputs": [],
   "source": [
    "# converitng integer date in date format\n",
    "transaction_data['DATE'] = pd.TimedeltaIndex(transaction_data['DATE'], unit='d') + dt.datetime(1899,12,30)"
   ]
  },
  {
   "cell_type": "code",
   "execution_count": 203,
   "metadata": {},
   "outputs": [
    {
     "name": "stdout",
     "output_type": "stream",
     "text": [
      "<class 'pandas.core.frame.DataFrame'>\n",
      "Int64Index: 264835 entries, 0 to 264835\n",
      "Data columns (total 8 columns):\n",
      " #   Column          Non-Null Count   Dtype         \n",
      "---  ------          --------------   -----         \n",
      " 0   DATE            264835 non-null  datetime64[ns]\n",
      " 1   STORE_NBR       264835 non-null  int64         \n",
      " 2   LYLTY_CARD_NBR  264835 non-null  int64         \n",
      " 3   TXN_ID          264835 non-null  int64         \n",
      " 4   PROD_NBR        264835 non-null  int64         \n",
      " 5   PROD_NAME       264835 non-null  object        \n",
      " 6   PROD_QTY        264835 non-null  int64         \n",
      " 7   TOT_SALES       264835 non-null  float64       \n",
      "dtypes: datetime64[ns](1), float64(1), int64(5), object(1)\n",
      "memory usage: 18.2+ MB\n"
     ]
    }
   ],
   "source": [
    "# converitng integer date in date format\n",
    "transaction_data.info()"
   ]
  },
  {
   "cell_type": "code",
   "execution_count": 204,
   "metadata": {},
   "outputs": [
    {
     "data": {
      "text/html": [
       "<div>\n",
       "<style scoped>\n",
       "    .dataframe tbody tr th:only-of-type {\n",
       "        vertical-align: middle;\n",
       "    }\n",
       "\n",
       "    .dataframe tbody tr th {\n",
       "        vertical-align: top;\n",
       "    }\n",
       "\n",
       "    .dataframe thead th {\n",
       "        text-align: right;\n",
       "    }\n",
       "</style>\n",
       "<table border=\"1\" class=\"dataframe\">\n",
       "  <thead>\n",
       "    <tr style=\"text-align: right;\">\n",
       "      <th></th>\n",
       "      <th>STORE_NBR</th>\n",
       "      <th>LYLTY_CARD_NBR</th>\n",
       "      <th>TXN_ID</th>\n",
       "      <th>PROD_NBR</th>\n",
       "      <th>PROD_QTY</th>\n",
       "      <th>TOT_SALES</th>\n",
       "    </tr>\n",
       "  </thead>\n",
       "  <tbody>\n",
       "    <tr>\n",
       "      <th>count</th>\n",
       "      <td>264835.000000</td>\n",
       "      <td>2.648350e+05</td>\n",
       "      <td>2.648350e+05</td>\n",
       "      <td>264835.000000</td>\n",
       "      <td>264835.000000</td>\n",
       "      <td>264835.000000</td>\n",
       "    </tr>\n",
       "    <tr>\n",
       "      <th>mean</th>\n",
       "      <td>135.080216</td>\n",
       "      <td>1.355496e+05</td>\n",
       "      <td>1.351584e+05</td>\n",
       "      <td>56.583201</td>\n",
       "      <td>1.907308</td>\n",
       "      <td>7.304205</td>\n",
       "    </tr>\n",
       "    <tr>\n",
       "      <th>std</th>\n",
       "      <td>76.784306</td>\n",
       "      <td>8.058011e+04</td>\n",
       "      <td>7.813316e+04</td>\n",
       "      <td>32.826692</td>\n",
       "      <td>0.643655</td>\n",
       "      <td>3.083231</td>\n",
       "    </tr>\n",
       "    <tr>\n",
       "      <th>min</th>\n",
       "      <td>1.000000</td>\n",
       "      <td>1.000000e+03</td>\n",
       "      <td>1.000000e+00</td>\n",
       "      <td>1.000000</td>\n",
       "      <td>1.000000</td>\n",
       "      <td>1.500000</td>\n",
       "    </tr>\n",
       "    <tr>\n",
       "      <th>25%</th>\n",
       "      <td>70.000000</td>\n",
       "      <td>7.002100e+04</td>\n",
       "      <td>6.760100e+04</td>\n",
       "      <td>28.000000</td>\n",
       "      <td>2.000000</td>\n",
       "      <td>5.400000</td>\n",
       "    </tr>\n",
       "    <tr>\n",
       "      <th>50%</th>\n",
       "      <td>130.000000</td>\n",
       "      <td>1.303580e+05</td>\n",
       "      <td>1.351380e+05</td>\n",
       "      <td>56.000000</td>\n",
       "      <td>2.000000</td>\n",
       "      <td>7.400000</td>\n",
       "    </tr>\n",
       "    <tr>\n",
       "      <th>75%</th>\n",
       "      <td>203.000000</td>\n",
       "      <td>2.030945e+05</td>\n",
       "      <td>2.027015e+05</td>\n",
       "      <td>85.000000</td>\n",
       "      <td>2.000000</td>\n",
       "      <td>9.200000</td>\n",
       "    </tr>\n",
       "    <tr>\n",
       "      <th>max</th>\n",
       "      <td>272.000000</td>\n",
       "      <td>2.373711e+06</td>\n",
       "      <td>2.415841e+06</td>\n",
       "      <td>114.000000</td>\n",
       "      <td>200.000000</td>\n",
       "      <td>650.000000</td>\n",
       "    </tr>\n",
       "  </tbody>\n",
       "</table>\n",
       "</div>"
      ],
      "text/plain": [
       "           STORE_NBR  LYLTY_CARD_NBR        TXN_ID       PROD_NBR  \\\n",
       "count  264835.000000    2.648350e+05  2.648350e+05  264835.000000   \n",
       "mean      135.080216    1.355496e+05  1.351584e+05      56.583201   \n",
       "std        76.784306    8.058011e+04  7.813316e+04      32.826692   \n",
       "min         1.000000    1.000000e+03  1.000000e+00       1.000000   \n",
       "25%        70.000000    7.002100e+04  6.760100e+04      28.000000   \n",
       "50%       130.000000    1.303580e+05  1.351380e+05      56.000000   \n",
       "75%       203.000000    2.030945e+05  2.027015e+05      85.000000   \n",
       "max       272.000000    2.373711e+06  2.415841e+06     114.000000   \n",
       "\n",
       "            PROD_QTY      TOT_SALES  \n",
       "count  264835.000000  264835.000000  \n",
       "mean        1.907308       7.304205  \n",
       "std         0.643655       3.083231  \n",
       "min         1.000000       1.500000  \n",
       "25%         2.000000       5.400000  \n",
       "50%         2.000000       7.400000  \n",
       "75%         2.000000       9.200000  \n",
       "max       200.000000     650.000000  "
      ]
     },
     "execution_count": 204,
     "metadata": {},
     "output_type": "execute_result"
    }
   ],
   "source": [
    "# ger some statistical information\n",
    "transaction_data.describe()\n"
   ]
  },
  {
   "cell_type": "markdown",
   "metadata": {},
   "source": [
    "## Merging the dataset"
   ]
  },
  {
   "cell_type": "code",
   "execution_count": 205,
   "metadata": {},
   "outputs": [
    {
     "name": "stdout",
     "output_type": "stream",
     "text": [
      "   LYLTY_CARD_NBR              LIFESTAGE PREMIUM_CUSTOMER       DATE  \\\n",
      "0            1000  YOUNG SINGLES/COUPLES          Premium 2018-10-17   \n",
      "1            1002  YOUNG SINGLES/COUPLES       Mainstream 2018-09-16   \n",
      "2            1003         YOUNG FAMILIES           Budget 2019-03-07   \n",
      "3            1003         YOUNG FAMILIES           Budget 2019-03-08   \n",
      "4            1004  OLDER SINGLES/COUPLES       Mainstream 2018-11-02   \n",
      "\n",
      "   STORE_NBR  TXN_ID  PROD_NBR                               PROD_NAME  \\\n",
      "0          1       1         5  Natural Chip        Compny SeaSalt175g   \n",
      "1          1       2        58   Red Rock Deli Chikn&Garlic Aioli 150g   \n",
      "2          1       3        52   Grain Waves Sour    Cream&Chives 210G   \n",
      "3          1       4       106  Natural ChipCo      Hony Soy Chckn175g   \n",
      "4          1       5        96          WW Original Stacked Chips 160g   \n",
      "\n",
      "   PROD_QTY  TOT_SALES  \n",
      "0         2        6.0  \n",
      "1         1        2.7  \n",
      "2         1        3.6  \n",
      "3         1        3.0  \n",
      "4         1        1.9  \n"
     ]
    }
   ],
   "source": [
    "data = pd.merge(purchase_data,transaction_data,on ='LYLTY_CARD_NBR',how=\"right\")\n",
    "print(data.head())"
   ]
  },
  {
   "cell_type": "code",
   "execution_count": 206,
   "metadata": {},
   "outputs": [
    {
     "data": {
      "text/plain": [
       "(264835, 10)"
      ]
     },
     "execution_count": 206,
     "metadata": {},
     "output_type": "execute_result"
    }
   ],
   "source": [
    "data.shape"
   ]
  },
  {
   "cell_type": "code",
   "execution_count": 207,
   "metadata": {},
   "outputs": [
    {
     "name": "stdout",
     "output_type": "stream",
     "text": [
      "<class 'pandas.core.frame.DataFrame'>\n",
      "Int64Index: 264835 entries, 0 to 264834\n",
      "Data columns (total 10 columns):\n",
      " #   Column            Non-Null Count   Dtype         \n",
      "---  ------            --------------   -----         \n",
      " 0   LYLTY_CARD_NBR    264835 non-null  int64         \n",
      " 1   LIFESTAGE         264835 non-null  object        \n",
      " 2   PREMIUM_CUSTOMER  264835 non-null  object        \n",
      " 3   DATE              264835 non-null  datetime64[ns]\n",
      " 4   STORE_NBR         264835 non-null  int64         \n",
      " 5   TXN_ID            264835 non-null  int64         \n",
      " 6   PROD_NBR          264835 non-null  int64         \n",
      " 7   PROD_NAME         264835 non-null  object        \n",
      " 8   PROD_QTY          264835 non-null  int64         \n",
      " 9   TOT_SALES         264835 non-null  float64       \n",
      "dtypes: datetime64[ns](1), float64(1), int64(5), object(3)\n",
      "memory usage: 22.2+ MB\n"
     ]
    }
   ],
   "source": [
    "data.info()"
   ]
  },
  {
   "cell_type": "code",
   "execution_count": 208,
   "metadata": {},
   "outputs": [
    {
     "data": {
      "text/plain": [
       "array(['Natural Chip        Compny SeaSalt175g',\n",
       "       'Red Rock Deli Chikn&Garlic Aioli 150g',\n",
       "       'Grain Waves Sour    Cream&Chives 210G',\n",
       "       'Natural ChipCo      Hony Soy Chckn175g',\n",
       "       'WW Original Stacked Chips 160g', 'Cheetos Puffs 165g',\n",
       "       'Infuzions SourCream&Herbs Veg Strws 110g',\n",
       "       'RRD SR Slow Rst     Pork Belly 150g',\n",
       "       'Doritos Cheese      Supreme 330g', 'Doritos Mexicana    170g',\n",
       "       'Old El Paso Salsa   Dip Tomato Med 300g',\n",
       "       'GrnWves Plus Btroot & Chilli Jam 180g',\n",
       "       'Smiths Crinkle Cut  Chips Barbecue 170g',\n",
       "       'Kettle Sensations   Camembert & Fig 150g',\n",
       "       'Doritos Corn Chip Southern Chicken 150g',\n",
       "       'CCs Tasty Cheese    175g', 'Tostitos Splash Of  Lime 175g',\n",
       "       'Kettle 135g Swt Pot Sea Salt', 'RRD Salt & Vinegar  165g',\n",
       "       'Infuzions Mango     Chutny Papadums 70g',\n",
       "       'Smiths Crinkle Cut  Snag&Sauce 150g',\n",
       "       'Smiths Crinkle      Original 330g',\n",
       "       'RRD Sweet Chilli &  Sour Cream 165g',\n",
       "       'Smiths Chip Thinly  S/Cream&Onion 175g',\n",
       "       'Smiths Crinkle Chips Salt & Vinegar 330g',\n",
       "       'Red Rock Deli SR    Salsa & Mzzrlla 150g',\n",
       "       'Cobs Popd Sea Salt  Chips 110g',\n",
       "       'Natural ChipCo Sea  Salt & Vinegr 175g',\n",
       "       'Natural Chip Co     Tmato Hrb&Spce 175g', 'Burger Rings 220g',\n",
       "       'Woolworths Cheese   Rings 190g',\n",
       "       'Smiths Thinly       Swt Chli&S/Cream175G',\n",
       "       'Thins Chips Seasonedchicken 175g',\n",
       "       'Smiths Thinly Cut   Roast Chicken 175g',\n",
       "       'Tyrrells Crisps     Ched & Chives 165g',\n",
       "       'Doritos Corn Chips  Cheese Supreme 170g',\n",
       "       'Smiths Chip Thinly  Cut Original 175g',\n",
       "       'Smiths Crinkle Cut  Chips Original 170g',\n",
       "       'Thins Chips Light&  Tangy 175g',\n",
       "       'Doritos Corn Chips  Original 170g',\n",
       "       'Kettle Sensations   Siracha Lime 150g',\n",
       "       'Smiths Crinkle Cut  Salt & Vinegar 170g',\n",
       "       'Smith Crinkle Cut   Bolognese 150g', 'Cheezels Cheese 330g',\n",
       "       'Kettle Chilli 175g', 'Tyrrells Crisps     Lightly Salted 165g',\n",
       "       'Twisties Cheese     270g', 'WW Crinkle Cut      Chicken 175g',\n",
       "       'RRD Chilli&         Coconut 150g',\n",
       "       'Infuzions BBQ Rib   Prawn Crackers 110g',\n",
       "       'Sunbites Whlegrn    Crisps Frch/Onin 90g',\n",
       "       'Doritos Salsa       Medium 300g',\n",
       "       'Kettle Tortilla ChpsFeta&Garlic 150g',\n",
       "       'Smiths Crinkle Cut  French OnionDip 150g',\n",
       "       'WW D/Style Chip     Sea Salt 200g',\n",
       "       'Smiths Chip Thinly  CutSalt/Vinegr175g',\n",
       "       'Kettle Sensations   BBQ&Maple 150g',\n",
       "       'Old El Paso Salsa   Dip Tomato Mild 300g',\n",
       "       'Tostitos Smoked     Chipotle 175g', 'RRD Lime & Pepper   165g',\n",
       "       'CCs Nacho Cheese    175g', 'Snbts Whlgrn Crisps Cheddr&Mstrd 90g',\n",
       "       'Kettle Tortilla ChpsBtroot&Ricotta 150g',\n",
       "       'Pringles Sthrn FriedChicken 134g',\n",
       "       'Pringles Chicken    Salt Crips 134g',\n",
       "       'French Fries Potato Chips 175g',\n",
       "       'Kettle Mozzarella   Basil & Pesto 175g', 'CCs Original 175g',\n",
       "       'Tostitos Lightly    Salted 175g',\n",
       "       'Smiths Crnkle Chip  Orgnl Big Bag 380g',\n",
       "       'Smiths Crinkle Cut  Chips Chicken 170g',\n",
       "       'Smiths Crinkle Cut  Chips Chs&Onion170g', 'Twisties Chicken270g',\n",
       "       'Woolworths Medium   Salsa 300g',\n",
       "       'Red Rock Deli Sp    Salt & Truffle 150G',\n",
       "       'RRD Pc Sea Salt     165g', 'WW Supreme Cheese   Corn Chips 200g',\n",
       "       'WW Original Corn    Chips 200g', 'Woolworths Mild     Salsa 300g',\n",
       "       'Cheezels Cheese Box 125g', 'Doritos Salsa Mild  300g',\n",
       "       'Cobs Popd Swt/Chlli &Sr/Cream Chips 110g',\n",
       "       'Infzns Crn Crnchers Tangy Gcamole 110g',\n",
       "       'WW Sour Cream &OnionStacked Chips 160g',\n",
       "       'Pringles Mystery    Flavour 134g', 'Pringles Barbeque   134g',\n",
       "       'Grain Waves         Sweet Chilli 210g',\n",
       "       'Pringles Sweet&Spcy BBQ 134g', 'Kettle Original 175g',\n",
       "       'Infuzions Thai SweetChili PotatoMix 110g',\n",
       "       'Old El Paso Salsa   Dip Chnky Tom Ht300g',\n",
       "       'Smiths Crinkle Cut  Tomato Salsa 150g',\n",
       "       'Cheetos Chs & Bacon Balls 190g',\n",
       "       'Kettle Sweet Chilli And Sour Cream 175g',\n",
       "       'Doritos Corn Chips  Nacho Cheese 170g',\n",
       "       'Cobs Popd Sour Crm  &Chives Chips 110g',\n",
       "       'Red Rock Deli Thai  Chilli&Lime 150g',\n",
       "       'Twisties Cheese     Burger 250g',\n",
       "       'Kettle Sea Salt     And Vinegar 175g',\n",
       "       'WW Crinkle Cut      Original 175g',\n",
       "       'Dorito Corn Chp     Supreme 380g',\n",
       "       'Doritos Corn Chip Mexican Jalapeno 150g',\n",
       "       'Pringles SourCream  Onion 134g',\n",
       "       'Kettle Tortilla ChpsHny&Jlpno Chili 150g',\n",
       "       'RRD Steak &         Chimuchurri 150g',\n",
       "       'Thins Chips Salt &  Vinegar 175g',\n",
       "       'Thins Chips         Originl saltd 175g',\n",
       "       'RRD Honey Soy       Chicken 165g',\n",
       "       'Kettle Honey Soy    Chicken 175g',\n",
       "       'NCC Sour Cream &    Garden Chives 175g',\n",
       "       'Pringles Original   Crisps 134g',\n",
       "       'Smith Crinkle Cut   Mac N Cheese 150g',\n",
       "       'Thins Potato Chips  Hot & Spicy 175g', 'Pringles Slt Vingar 134g'],\n",
       "      dtype=object)"
      ]
     },
     "execution_count": 208,
     "metadata": {},
     "output_type": "execute_result"
    }
   ],
   "source": [
    "data[\"PROD_NAME\"].unique()"
   ]
  },
  {
   "cell_type": "code",
   "execution_count": 209,
   "metadata": {},
   "outputs": [],
   "source": [
    "split_prods = data[\"PROD_NAME\"].str.replace(r'([0-9]+[gG])','').str.replace(r'[^\\w]', ' ').str.split()"
   ]
  },
  {
   "cell_type": "code",
   "execution_count": 210,
   "metadata": {},
   "outputs": [
    {
     "name": "stdout",
     "output_type": "stream",
     "text": [
      "0                    [Natural, Chip, Compny, SeaSalt]\n",
      "1             [Red, Rock, Deli, Chikn, Garlic, Aioli]\n",
      "2                 [Grain, Waves, Sour, Cream, Chives]\n",
      "3                 [Natural, ChipCo, Hony, Soy, Chckn]\n",
      "4                      [WW, Original, Stacked, Chips]\n",
      "                             ...                     \n",
      "264830                  [Grain, Waves, Sweet, Chilli]\n",
      "264831           [Kettle, Tortilla, ChpsFeta, Garlic]\n",
      "264832            [Tyrrells, Crisps, Lightly, Salted]\n",
      "264833    [Old, El, Paso, Salsa, Dip, Chnky, Tom, Ht]\n",
      "264834        [Smiths, Crinkle, Chips, Salt, Vinegar]\n",
      "Name: PROD_NAME, Length: 264835, dtype: object\n"
     ]
    }
   ],
   "source": [
    "print(split_prods)"
   ]
  },
  {
   "cell_type": "code",
   "execution_count": 211,
   "metadata": {},
   "outputs": [
    {
     "name": "stdout",
     "output_type": "stream",
     "text": [
      "Chips     49770\n",
      "Kettle    41288\n",
      "Smiths    28859\n",
      "Salt      27976\n",
      "Cheese    27890\n",
      "          ...  \n",
      "Onin       1432\n",
      "Pc         1431\n",
      "Garden     1419\n",
      "NCC        1419\n",
      "Fries      1418\n",
      "Length: 198, dtype: int64\n"
     ]
    }
   ],
   "source": [
    "word_counts = {}\n",
    "\n",
    "def count_words(line):\n",
    "    for word in line:\n",
    "        if word not in word_counts:\n",
    "            word_counts[word] = 1\n",
    "        else:\n",
    "            word_counts[word] += 1\n",
    "            \n",
    "split_prods.apply(lambda line: count_words(line))\n",
    "print(pd.Series(word_counts).sort_values(ascending=False))"
   ]
  },
  {
   "cell_type": "markdown",
   "metadata": {},
   "source": [
    "In dataset there is one product is of salsa and which is \n",
    "not comes in chipa category so we will remove that"
   ]
  },
  {
   "cell_type": "code",
   "execution_count": 212,
   "metadata": {},
   "outputs": [],
   "source": [
    "# removing salsa from dataset\n",
    "data =data[~data[\"PROD_NAME\"].str.contains(r\"[Ss]alsa\")]"
   ]
  },
  {
   "cell_type": "code",
   "execution_count": 213,
   "metadata": {},
   "outputs": [
    {
     "name": "stdout",
     "output_type": "stream",
     "text": [
      "       LYLTY_CARD_NBR      STORE_NBR        TXN_ID       PROD_NBR  \\\n",
      "count    2.467410e+05  246741.000000  2.467410e+05  246741.000000   \n",
      "mean     1.355311e+05     135.051212  1.351312e+05      56.351835   \n",
      "std      8.071542e+04      76.787231  7.814786e+04      33.695488   \n",
      "min      1.000000e+03       1.000000  1.000000e+00       1.000000   \n",
      "25%      7.001500e+04      70.000000  6.756900e+04      26.000000   \n",
      "50%      1.303670e+05     130.000000  1.351840e+05      53.000000   \n",
      "75%      2.030840e+05     203.000000  2.026540e+05      87.000000   \n",
      "max      2.373711e+06     272.000000  2.415841e+06     114.000000   \n",
      "\n",
      "            PROD_QTY      TOT_SALES  \n",
      "count  246741.000000  246741.000000  \n",
      "mean        1.908061       7.321328  \n",
      "std         0.659832       3.077833  \n",
      "min         1.000000       1.700000  \n",
      "25%         2.000000       5.800000  \n",
      "50%         2.000000       7.400000  \n",
      "75%         2.000000       8.800000  \n",
      "max       200.000000     650.000000   \n",
      "\n",
      "<class 'pandas.core.frame.DataFrame'>\n",
      "Int64Index: 246741 entries, 0 to 264834\n",
      "Data columns (total 10 columns):\n",
      " #   Column            Non-Null Count   Dtype         \n",
      "---  ------            --------------   -----         \n",
      " 0   LYLTY_CARD_NBR    246741 non-null  int64         \n",
      " 1   LIFESTAGE         246741 non-null  object        \n",
      " 2   PREMIUM_CUSTOMER  246741 non-null  object        \n",
      " 3   DATE              246741 non-null  datetime64[ns]\n",
      " 4   STORE_NBR         246741 non-null  int64         \n",
      " 5   TXN_ID            246741 non-null  int64         \n",
      " 6   PROD_NBR          246741 non-null  int64         \n",
      " 7   PROD_NAME         246741 non-null  object        \n",
      " 8   PROD_QTY          246741 non-null  int64         \n",
      " 9   TOT_SALES         246741 non-null  float64       \n",
      "dtypes: datetime64[ns](1), float64(1), int64(5), object(3)\n",
      "memory usage: 20.7+ MB\n",
      "None\n"
     ]
    }
   ],
   "source": [
    "print(data.describe(), '\\n')\n",
    "print(data.info())"
   ]
  },
  {
   "cell_type": "code",
   "execution_count": 214,
   "metadata": {},
   "outputs": [
    {
     "data": {
      "text/plain": [
       "(0.8, 50.75]       246739\n",
       "(50.75, 100.5]          0\n",
       "(100.5, 150.25]         0\n",
       "(150.25, 200.0]         2\n",
       "Name: PROD_QTY, dtype: int64"
      ]
     },
     "execution_count": 214,
     "metadata": {},
     "output_type": "execute_result"
    }
   ],
   "source": [
    "# let see outlier in Prod_quantity column\n",
    "data['PROD_QTY'].value_counts(bins=4).sort_index()"
   ]
  },
  {
   "cell_type": "markdown",
   "metadata": {},
   "source": [
    " from above binning we see that PROD_QTY value is above 50.75"
   ]
  },
  {
   "cell_type": "code",
   "execution_count": 215,
   "metadata": {},
   "outputs": [
    {
     "data": {
      "text/html": [
       "<div>\n",
       "<style scoped>\n",
       "    .dataframe tbody tr th:only-of-type {\n",
       "        vertical-align: middle;\n",
       "    }\n",
       "\n",
       "    .dataframe tbody tr th {\n",
       "        vertical-align: top;\n",
       "    }\n",
       "\n",
       "    .dataframe thead th {\n",
       "        text-align: right;\n",
       "    }\n",
       "</style>\n",
       "<table border=\"1\" class=\"dataframe\">\n",
       "  <thead>\n",
       "    <tr style=\"text-align: right;\">\n",
       "      <th></th>\n",
       "      <th>LYLTY_CARD_NBR</th>\n",
       "      <th>LIFESTAGE</th>\n",
       "      <th>PREMIUM_CUSTOMER</th>\n",
       "      <th>DATE</th>\n",
       "      <th>STORE_NBR</th>\n",
       "      <th>TXN_ID</th>\n",
       "      <th>PROD_NBR</th>\n",
       "      <th>PROD_NAME</th>\n",
       "      <th>PROD_QTY</th>\n",
       "      <th>TOT_SALES</th>\n",
       "    </tr>\n",
       "  </thead>\n",
       "  <tbody>\n",
       "    <tr>\n",
       "      <th>221624</th>\n",
       "      <td>226000</td>\n",
       "      <td>OLDER FAMILIES</td>\n",
       "      <td>Premium</td>\n",
       "      <td>2018-08-19</td>\n",
       "      <td>226</td>\n",
       "      <td>226201</td>\n",
       "      <td>4</td>\n",
       "      <td>Dorito Corn Chp     Supreme 380g</td>\n",
       "      <td>200</td>\n",
       "      <td>650.0</td>\n",
       "    </tr>\n",
       "    <tr>\n",
       "      <th>221625</th>\n",
       "      <td>226000</td>\n",
       "      <td>OLDER FAMILIES</td>\n",
       "      <td>Premium</td>\n",
       "      <td>2019-05-20</td>\n",
       "      <td>226</td>\n",
       "      <td>226210</td>\n",
       "      <td>4</td>\n",
       "      <td>Dorito Corn Chp     Supreme 380g</td>\n",
       "      <td>200</td>\n",
       "      <td>650.0</td>\n",
       "    </tr>\n",
       "    <tr>\n",
       "      <th>218543</th>\n",
       "      <td>223025</td>\n",
       "      <td>YOUNG FAMILIES</td>\n",
       "      <td>Mainstream</td>\n",
       "      <td>2018-08-15</td>\n",
       "      <td>223</td>\n",
       "      <td>223075</td>\n",
       "      <td>8</td>\n",
       "      <td>Smiths Crinkle Cut  Chips Original 170g</td>\n",
       "      <td>5</td>\n",
       "      <td>14.5</td>\n",
       "    </tr>\n",
       "    <tr>\n",
       "      <th>91147</th>\n",
       "      <td>94098</td>\n",
       "      <td>YOUNG FAMILIES</td>\n",
       "      <td>Budget</td>\n",
       "      <td>2019-05-18</td>\n",
       "      <td>94</td>\n",
       "      <td>93080</td>\n",
       "      <td>114</td>\n",
       "      <td>Kettle Sensations   Siracha Lime 150g</td>\n",
       "      <td>5</td>\n",
       "      <td>23.0</td>\n",
       "    </tr>\n",
       "    <tr>\n",
       "      <th>87093</th>\n",
       "      <td>90215</td>\n",
       "      <td>RETIREES</td>\n",
       "      <td>Premium</td>\n",
       "      <td>2018-08-19</td>\n",
       "      <td>90</td>\n",
       "      <td>88934</td>\n",
       "      <td>95</td>\n",
       "      <td>Sunbites Whlegrn    Crisps Frch/Onin 90g</td>\n",
       "      <td>5</td>\n",
       "      <td>8.5</td>\n",
       "    </tr>\n",
       "  </tbody>\n",
       "</table>\n",
       "</div>"
      ],
      "text/plain": [
       "        LYLTY_CARD_NBR       LIFESTAGE PREMIUM_CUSTOMER       DATE  STORE_NBR  \\\n",
       "221624          226000  OLDER FAMILIES          Premium 2018-08-19        226   \n",
       "221625          226000  OLDER FAMILIES          Premium 2019-05-20        226   \n",
       "218543          223025  YOUNG FAMILIES       Mainstream 2018-08-15        223   \n",
       "91147            94098  YOUNG FAMILIES           Budget 2019-05-18         94   \n",
       "87093            90215        RETIREES          Premium 2018-08-19         90   \n",
       "\n",
       "        TXN_ID  PROD_NBR                                 PROD_NAME  PROD_QTY  \\\n",
       "221624  226201         4          Dorito Corn Chp     Supreme 380g       200   \n",
       "221625  226210         4          Dorito Corn Chp     Supreme 380g       200   \n",
       "218543  223075         8   Smiths Crinkle Cut  Chips Original 170g         5   \n",
       "91147    93080       114     Kettle Sensations   Siracha Lime 150g         5   \n",
       "87093    88934        95  Sunbites Whlegrn    Crisps Frch/Onin 90g         5   \n",
       "\n",
       "        TOT_SALES  \n",
       "221624      650.0  \n",
       "221625      650.0  \n",
       "218543       14.5  \n",
       "91147        23.0  \n",
       "87093         8.5  "
      ]
     },
     "execution_count": 215,
     "metadata": {},
     "output_type": "execute_result"
    }
   ],
   "source": [
    "data.sort_values(by =\"PROD_QTY\",ascending =False).head()"
   ]
  },
  {
   "cell_type": "code",
   "execution_count": 216,
   "metadata": {},
   "outputs": [],
   "source": [
    "# remove outlier\n",
    "data = data[data[\"PROD_QTY\"] <6]"
   ]
  },
  {
   "cell_type": "code",
   "execution_count": 217,
   "metadata": {},
   "outputs": [
    {
     "data": {
      "text/plain": [
       "count                  246739\n",
       "unique                    364\n",
       "top       2018-12-24 00:00:00\n",
       "freq                      865\n",
       "first     2018-07-01 00:00:00\n",
       "last      2019-06-30 00:00:00\n",
       "Name: DATE, dtype: object"
      ]
     },
     "execution_count": 217,
     "metadata": {},
     "output_type": "execute_result"
    }
   ],
   "source": [
    "# date information\n",
    "data['DATE'].describe()"
   ]
  },
  {
   "cell_type": "code",
   "execution_count": 218,
   "metadata": {},
   "outputs": [
    {
     "data": {
      "text/plain": [
       "DatetimeIndex(['2018-12-25'], dtype='datetime64[ns]', freq=None)"
      ]
     },
     "execution_count": 218,
     "metadata": {},
     "output_type": "execute_result"
    }
   ],
   "source": [
    "# searching missing date\n",
    "pd.date_range(start=data[\"DATE\"].min(), end=data[\"DATE\"].max()).difference(data[\"DATE\"])\n"
   ]
  },
  {
   "cell_type": "code",
   "execution_count": 219,
   "metadata": {},
   "outputs": [
    {
     "data": {
      "text/plain": [
       "2019-06-13    607\n",
       "2018-09-22    609\n",
       "2018-11-25    610\n",
       "2018-10-18    611\n",
       "2019-06-24    612\n",
       "Name: DATE, dtype: int64"
      ]
     },
     "execution_count": 219,
     "metadata": {},
     "output_type": "execute_result"
    }
   ],
   "source": [
    "data['DATE'].value_counts().sort_values().head()"
   ]
  },
  {
   "cell_type": "markdown",
   "metadata": {},
   "source": [
    "The date with no transaction falls on Christmas day,the day when the store is close.\n",
    "knowing there's no anomaly in this ,we leave it be."
   ]
  },
  {
   "cell_type": "code",
   "execution_count": 220,
   "metadata": {},
   "outputs": [
    {
     "name": "stdout",
     "output_type": "stream",
     "text": [
      "count    240675.000000\n",
      "mean        175.302287\n",
      "std          60.014592\n",
      "min          70.000000\n",
      "25%         150.000000\n",
      "50%         170.000000\n",
      "75%         175.000000\n",
      "max         380.000000\n",
      "Name: 0, dtype: float64\n"
     ]
    },
    {
     "data": {
      "text/plain": [
       "<matplotlib.axes._subplots.AxesSubplot at 0x20a0bf8bc70>"
      ]
     },
     "execution_count": 220,
     "metadata": {},
     "output_type": "execute_result"
    },
    {
     "data": {
      "image/png": "[encoded data removed]",
      "text/plain": [
       "<Figure size 432x288 with 1 Axes>"
      ]
     },
     "metadata": {
      "needs_background": "light"
     },
     "output_type": "display_data"
    }
   ],
   "source": [
    "# extracting the pack_size from porduct name column\n",
    "data[\"PROD_NAME\"] = data[\"PROD_NAME\"].str.replace(r'[0-9]+(G)','g')\n",
    "pack_sizes = data[\"PROD_NAME\"].str.extract(r'([0-9]+[gG])')[0].str.replace(\"g\",\"\").astype(\"float\")\n",
    "print(pack_sizes.describe())\n",
    "pack_sizes.plot.hist()\n"
   ]
  },
  {
   "cell_type": "markdown",
   "metadata": {},
   "source": [
    "From above information we can say that the lowest pack is or 70g and highest is 380g"
   ]
  },
  {
   "cell_type": "code",
   "execution_count": 221,
   "metadata": {},
   "outputs": [],
   "source": [
    "# Different brand names"
   ]
  },
  {
   "cell_type": "code",
   "execution_count": 222,
   "metadata": {},
   "outputs": [
    {
     "data": {
      "text/plain": [
       "Burger         1564\n",
       "CCs            4551\n",
       "Cheetos        2927\n",
       "Cheezels       4603\n",
       "Cobs           9693\n",
       "Dorito         3183\n",
       "Doritos       22041\n",
       "French         1418\n",
       "Grain          6272\n",
       "GrnWves        1468\n",
       "Infuzions     11057\n",
       "Infzns         3144\n",
       "Kettle        41288\n",
       "NCC            1419\n",
       "Natural        6050\n",
       "Pringles      25102\n",
       "RRD           11894\n",
       "Red            4427\n",
       "Smith          2963\n",
       "Smiths        27389\n",
       "Snbts          1576\n",
       "Sunbites       1432\n",
       "Thins         14075\n",
       "Tostitos       9471\n",
       "Twisties       9454\n",
       "Tyrrells       6442\n",
       "WW            10320\n",
       "Woolworths     1516\n",
       "Name: PROD_NAME, dtype: int64"
      ]
     },
     "execution_count": 222,
     "metadata": {},
     "output_type": "execute_result"
    }
   ],
   "source": [
    "data['PROD_NAME'].str.split().str[0].value_counts().sort_index()"
   ]
  },
  {
   "cell_type": "markdown",
   "metadata": {},
   "source": [
    "Above we can see that some brands name is written in different ways but they\n",
    "are same so we will give them same name instead of different."
   ]
  },
  {
   "cell_type": "code",
   "execution_count": 223,
   "metadata": {},
   "outputs": [],
   "source": [
    "data[\"Cleaned_Brand_Names\"] = data[\"PROD_NAME\"].str.split().str[0]"
   ]
  },
  {
   "cell_type": "code",
   "execution_count": 224,
   "metadata": {},
   "outputs": [],
   "source": [
    "def clean_brand_names(line):\n",
    "    brand = line[\"Cleaned_Brand_Names\"]\n",
    "    if brand == \"Dorito\":\n",
    "        return \"Doritos\"\n",
    "    elif brand == \"GrnWves\" or brand == \"Grain\":\n",
    "        return \"Grain Waves\"\n",
    "    elif brand == \"Infzns\":\n",
    "        return \"Infuzions\"\n",
    "    elif brand == \"Natural\" or brand == \"NCC\":\n",
    "        return \"Natural Chip Co\"\n",
    "    elif brand == \"Red\":\n",
    "        return \"RRD\"\n",
    "    elif brand == \"Smith\":\n",
    "        return \"Smiths\"\n",
    "    elif brand == \"Snbts\":\n",
    "        return \"Sunbites\"\n",
    "    elif brand == \"WW\":\n",
    "        return \"Woolworths\"\n",
    "    else:\n",
    "        return brand"
   ]
  },
  {
   "cell_type": "code",
   "execution_count": 225,
   "metadata": {},
   "outputs": [],
   "source": [
    "data[\"Cleaned_Brand_Names\"] = data.apply(lambda line: clean_brand_names(line),axis=1)"
   ]
  },
  {
   "cell_type": "code",
   "execution_count": 226,
   "metadata": {},
   "outputs": [
    {
     "data": {
      "text/plain": [
       "<matplotlib.axes._subplots.AxesSubplot at 0x20a76c1e9d0>"
      ]
     },
     "execution_count": 226,
     "metadata": {},
     "output_type": "execute_result"
    },
    {
     "data": {
      "image/png": "[encoded data removed]",
      "text/plain": [
       "<Figure size 864x504 with 1 Axes>"
      ]
     },
     "metadata": {
      "needs_background": "light"
     },
     "output_type": "display_data"
    }
   ],
   "source": [
    "data[\"Cleaned_Brand_Names\"].value_counts(ascending=False).plot.bar(figsize=(12,7))"
   ]
  },
  {
   "cell_type": "markdown",
   "metadata": {},
   "source": [
    "From above graph we can say that the the kettle chips brand have highest count fallowed by Smiths"
   ]
  },
  {
   "cell_type": "code",
   "execution_count": 227,
   "metadata": {},
   "outputs": [
    {
     "data": {
      "text/html": [
       "<div>\n",
       "<style scoped>\n",
       "    .dataframe tbody tr th:only-of-type {\n",
       "        vertical-align: middle;\n",
       "    }\n",
       "\n",
       "    .dataframe tbody tr th {\n",
       "        vertical-align: top;\n",
       "    }\n",
       "\n",
       "    .dataframe thead th {\n",
       "        text-align: right;\n",
       "    }\n",
       "</style>\n",
       "<table border=\"1\" class=\"dataframe\">\n",
       "  <thead>\n",
       "    <tr style=\"text-align: right;\">\n",
       "      <th></th>\n",
       "      <th>LYLTY_CARD_NBR</th>\n",
       "      <th>LIFESTAGE</th>\n",
       "      <th>PREMIUM_CUSTOMER</th>\n",
       "      <th>DATE</th>\n",
       "      <th>STORE_NBR</th>\n",
       "      <th>TXN_ID</th>\n",
       "      <th>PROD_NBR</th>\n",
       "      <th>PROD_NAME</th>\n",
       "      <th>PROD_QTY</th>\n",
       "      <th>TOT_SALES</th>\n",
       "      <th>Cleaned_Brand_Names</th>\n",
       "    </tr>\n",
       "  </thead>\n",
       "  <tbody>\n",
       "    <tr>\n",
       "      <th>0</th>\n",
       "      <td>1000</td>\n",
       "      <td>YOUNG SINGLES/COUPLES</td>\n",
       "      <td>Premium</td>\n",
       "      <td>2018-10-17</td>\n",
       "      <td>1</td>\n",
       "      <td>1</td>\n",
       "      <td>5</td>\n",
       "      <td>Natural Chip        Compny SeaSalt175g</td>\n",
       "      <td>2</td>\n",
       "      <td>6.0</td>\n",
       "      <td>Natural Chip Co</td>\n",
       "    </tr>\n",
       "    <tr>\n",
       "      <th>1</th>\n",
       "      <td>1002</td>\n",
       "      <td>YOUNG SINGLES/COUPLES</td>\n",
       "      <td>Mainstream</td>\n",
       "      <td>2018-09-16</td>\n",
       "      <td>1</td>\n",
       "      <td>2</td>\n",
       "      <td>58</td>\n",
       "      <td>Red Rock Deli Chikn&amp;Garlic Aioli 150g</td>\n",
       "      <td>1</td>\n",
       "      <td>2.7</td>\n",
       "      <td>RRD</td>\n",
       "    </tr>\n",
       "    <tr>\n",
       "      <th>2</th>\n",
       "      <td>1003</td>\n",
       "      <td>YOUNG FAMILIES</td>\n",
       "      <td>Budget</td>\n",
       "      <td>2019-03-07</td>\n",
       "      <td>1</td>\n",
       "      <td>3</td>\n",
       "      <td>52</td>\n",
       "      <td>Grain Waves Sour    Cream&amp;Chives g</td>\n",
       "      <td>1</td>\n",
       "      <td>3.6</td>\n",
       "      <td>Grain Waves</td>\n",
       "    </tr>\n",
       "    <tr>\n",
       "      <th>3</th>\n",
       "      <td>1003</td>\n",
       "      <td>YOUNG FAMILIES</td>\n",
       "      <td>Budget</td>\n",
       "      <td>2019-03-08</td>\n",
       "      <td>1</td>\n",
       "      <td>4</td>\n",
       "      <td>106</td>\n",
       "      <td>Natural ChipCo      Hony Soy Chckn175g</td>\n",
       "      <td>1</td>\n",
       "      <td>3.0</td>\n",
       "      <td>Natural Chip Co</td>\n",
       "    </tr>\n",
       "    <tr>\n",
       "      <th>4</th>\n",
       "      <td>1004</td>\n",
       "      <td>OLDER SINGLES/COUPLES</td>\n",
       "      <td>Mainstream</td>\n",
       "      <td>2018-11-02</td>\n",
       "      <td>1</td>\n",
       "      <td>5</td>\n",
       "      <td>96</td>\n",
       "      <td>WW Original Stacked Chips 160g</td>\n",
       "      <td>1</td>\n",
       "      <td>1.9</td>\n",
       "      <td>Woolworths</td>\n",
       "    </tr>\n",
       "  </tbody>\n",
       "</table>\n",
       "</div>"
      ],
      "text/plain": [
       "   LYLTY_CARD_NBR              LIFESTAGE PREMIUM_CUSTOMER       DATE  \\\n",
       "0            1000  YOUNG SINGLES/COUPLES          Premium 2018-10-17   \n",
       "1            1002  YOUNG SINGLES/COUPLES       Mainstream 2018-09-16   \n",
       "2            1003         YOUNG FAMILIES           Budget 2019-03-07   \n",
       "3            1003         YOUNG FAMILIES           Budget 2019-03-08   \n",
       "4            1004  OLDER SINGLES/COUPLES       Mainstream 2018-11-02   \n",
       "\n",
       "   STORE_NBR  TXN_ID  PROD_NBR                               PROD_NAME  \\\n",
       "0          1       1         5  Natural Chip        Compny SeaSalt175g   \n",
       "1          1       2        58   Red Rock Deli Chikn&Garlic Aioli 150g   \n",
       "2          1       3        52      Grain Waves Sour    Cream&Chives g   \n",
       "3          1       4       106  Natural ChipCo      Hony Soy Chckn175g   \n",
       "4          1       5        96          WW Original Stacked Chips 160g   \n",
       "\n",
       "   PROD_QTY  TOT_SALES Cleaned_Brand_Names  \n",
       "0         2        6.0     Natural Chip Co  \n",
       "1         1        2.7                 RRD  \n",
       "2         1        3.6         Grain Waves  \n",
       "3         1        3.0     Natural Chip Co  \n",
       "4         1        1.9          Woolworths  "
      ]
     },
     "execution_count": 227,
     "metadata": {},
     "output_type": "execute_result"
    }
   ],
   "source": [
    "data.head()"
   ]
  },
  {
   "cell_type": "code",
   "execution_count": 228,
   "metadata": {},
   "outputs": [
    {
     "data": {
      "text/plain": [
       "<matplotlib.axes._subplots.AxesSubplot at 0x20a06e926a0>"
      ]
     },
     "execution_count": 228,
     "metadata": {},
     "output_type": "execute_result"
    },
    {
     "data": {
      "image/png": "[encoded data removed]",
      "text/plain": [
       "<Figure size 432x288 with 1 Axes>"
      ]
     },
     "metadata": {
      "needs_background": "light"
     },
     "output_type": "display_data"
    }
   ],
   "source": [
    "sns.countplot(data['PREMIUM_CUSTOMER'])"
   ]
  },
  {
   "cell_type": "code",
   "execution_count": 229,
   "metadata": {},
   "outputs": [
    {
     "data": {
      "text/plain": [
       "<matplotlib.axes._subplots.AxesSubplot at 0x20a0a1d25b0>"
      ]
     },
     "execution_count": 229,
     "metadata": {},
     "output_type": "execute_result"
    },
    {
     "data": {
      "image/png": "[encoded data removed]",
      "text/plain": [
       "<Figure size 432x288 with 1 Axes>"
      ]
     },
     "metadata": {
      "needs_background": "light"
     },
     "output_type": "display_data"
    }
   ],
   "source": [
    "data.groupby(by =\"LIFESTAGE\").TOT_SALES.sum().plot(kind='bar')"
   ]
  },
  {
   "cell_type": "code",
   "execution_count": 230,
   "metadata": {},
   "outputs": [
    {
     "data": {
      "text/html": [
       "<div>\n",
       "<style scoped>\n",
       "    .dataframe tbody tr th:only-of-type {\n",
       "        vertical-align: middle;\n",
       "    }\n",
       "\n",
       "    .dataframe tbody tr th {\n",
       "        vertical-align: top;\n",
       "    }\n",
       "\n",
       "    .dataframe thead th {\n",
       "        text-align: right;\n",
       "    }\n",
       "</style>\n",
       "<table border=\"1\" class=\"dataframe\">\n",
       "  <thead>\n",
       "    <tr style=\"text-align: right;\">\n",
       "      <th></th>\n",
       "      <th></th>\n",
       "      <th>sum</th>\n",
       "      <th>mean</th>\n",
       "    </tr>\n",
       "    <tr>\n",
       "      <th>LIFESTAGE</th>\n",
       "      <th>PREMIUM_CUSTOMER</th>\n",
       "      <th></th>\n",
       "      <th></th>\n",
       "    </tr>\n",
       "  </thead>\n",
       "  <tbody>\n",
       "    <tr>\n",
       "      <th>OLDER FAMILIES</th>\n",
       "      <th>Budget</th>\n",
       "      <td>156863.75</td>\n",
       "      <td>7.291241</td>\n",
       "    </tr>\n",
       "    <tr>\n",
       "      <th>YOUNG SINGLES/COUPLES</th>\n",
       "      <th>Mainstream</th>\n",
       "      <td>147582.20</td>\n",
       "      <td>7.551279</td>\n",
       "    </tr>\n",
       "    <tr>\n",
       "      <th>RETIREES</th>\n",
       "      <th>Mainstream</th>\n",
       "      <td>145168.95</td>\n",
       "      <td>7.269352</td>\n",
       "    </tr>\n",
       "    <tr>\n",
       "      <th>YOUNG FAMILIES</th>\n",
       "      <th>Budget</th>\n",
       "      <td>129717.95</td>\n",
       "      <td>7.302705</td>\n",
       "    </tr>\n",
       "    <tr>\n",
       "      <th rowspan=\"3\" valign=\"top\">OLDER SINGLES/COUPLES</th>\n",
       "      <th>Budget</th>\n",
       "      <td>127833.60</td>\n",
       "      <td>7.444305</td>\n",
       "    </tr>\n",
       "    <tr>\n",
       "      <th>Mainstream</th>\n",
       "      <td>124648.50</td>\n",
       "      <td>7.306049</td>\n",
       "    </tr>\n",
       "    <tr>\n",
       "      <th>Premium</th>\n",
       "      <td>123531.55</td>\n",
       "      <td>7.460085</td>\n",
       "    </tr>\n",
       "    <tr>\n",
       "      <th>RETIREES</th>\n",
       "      <th>Budget</th>\n",
       "      <td>105916.30</td>\n",
       "      <td>7.445786</td>\n",
       "    </tr>\n",
       "    <tr>\n",
       "      <th>OLDER FAMILIES</th>\n",
       "      <th>Mainstream</th>\n",
       "      <td>96413.55</td>\n",
       "      <td>7.281440</td>\n",
       "    </tr>\n",
       "    <tr>\n",
       "      <th>RETIREES</th>\n",
       "      <th>Premium</th>\n",
       "      <td>91296.65</td>\n",
       "      <td>7.461315</td>\n",
       "    </tr>\n",
       "    <tr>\n",
       "      <th>YOUNG FAMILIES</th>\n",
       "      <th>Mainstream</th>\n",
       "      <td>86338.25</td>\n",
       "      <td>7.226772</td>\n",
       "    </tr>\n",
       "    <tr>\n",
       "      <th>MIDAGE SINGLES/COUPLES</th>\n",
       "      <th>Mainstream</th>\n",
       "      <td>84734.25</td>\n",
       "      <td>7.637156</td>\n",
       "    </tr>\n",
       "    <tr>\n",
       "      <th>YOUNG FAMILIES</th>\n",
       "      <th>Premium</th>\n",
       "      <td>78571.70</td>\n",
       "      <td>7.285951</td>\n",
       "    </tr>\n",
       "    <tr>\n",
       "      <th>OLDER FAMILIES</th>\n",
       "      <th>Premium</th>\n",
       "      <td>75242.60</td>\n",
       "      <td>7.232779</td>\n",
       "    </tr>\n",
       "    <tr>\n",
       "      <th>YOUNG SINGLES/COUPLES</th>\n",
       "      <th>Budget</th>\n",
       "      <td>57122.10</td>\n",
       "      <td>6.663023</td>\n",
       "    </tr>\n",
       "    <tr>\n",
       "      <th>MIDAGE SINGLES/COUPLES</th>\n",
       "      <th>Premium</th>\n",
       "      <td>54443.85</td>\n",
       "      <td>7.152371</td>\n",
       "    </tr>\n",
       "    <tr>\n",
       "      <th>YOUNG SINGLES/COUPLES</th>\n",
       "      <th>Premium</th>\n",
       "      <td>39052.30</td>\n",
       "      <td>6.673325</td>\n",
       "    </tr>\n",
       "    <tr>\n",
       "      <th>MIDAGE SINGLES/COUPLES</th>\n",
       "      <th>Budget</th>\n",
       "      <td>33345.70</td>\n",
       "      <td>7.108442</td>\n",
       "    </tr>\n",
       "    <tr>\n",
       "      <th rowspan=\"3\" valign=\"top\">NEW FAMILIES</th>\n",
       "      <th>Budget</th>\n",
       "      <td>20607.45</td>\n",
       "      <td>7.297256</td>\n",
       "    </tr>\n",
       "    <tr>\n",
       "      <th>Mainstream</th>\n",
       "      <td>15979.70</td>\n",
       "      <td>7.313364</td>\n",
       "    </tr>\n",
       "    <tr>\n",
       "      <th>Premium</th>\n",
       "      <td>10760.80</td>\n",
       "      <td>7.231720</td>\n",
       "    </tr>\n",
       "  </tbody>\n",
       "</table>\n",
       "</div>"
      ],
      "text/plain": [
       "                                               sum      mean\n",
       "LIFESTAGE              PREMIUM_CUSTOMER                     \n",
       "OLDER FAMILIES         Budget            156863.75  7.291241\n",
       "YOUNG SINGLES/COUPLES  Mainstream        147582.20  7.551279\n",
       "RETIREES               Mainstream        145168.95  7.269352\n",
       "YOUNG FAMILIES         Budget            129717.95  7.302705\n",
       "OLDER SINGLES/COUPLES  Budget            127833.60  7.444305\n",
       "                       Mainstream        124648.50  7.306049\n",
       "                       Premium           123531.55  7.460085\n",
       "RETIREES               Budget            105916.30  7.445786\n",
       "OLDER FAMILIES         Mainstream         96413.55  7.281440\n",
       "RETIREES               Premium            91296.65  7.461315\n",
       "YOUNG FAMILIES         Mainstream         86338.25  7.226772\n",
       "MIDAGE SINGLES/COUPLES Mainstream         84734.25  7.637156\n",
       "YOUNG FAMILIES         Premium            78571.70  7.285951\n",
       "OLDER FAMILIES         Premium            75242.60  7.232779\n",
       "YOUNG SINGLES/COUPLES  Budget             57122.10  6.663023\n",
       "MIDAGE SINGLES/COUPLES Premium            54443.85  7.152371\n",
       "YOUNG SINGLES/COUPLES  Premium            39052.30  6.673325\n",
       "MIDAGE SINGLES/COUPLES Budget             33345.70  7.108442\n",
       "NEW FAMILIES           Budget             20607.45  7.297256\n",
       "                       Mainstream         15979.70  7.313364\n",
       "                       Premium            10760.80  7.231720"
      ]
     },
     "execution_count": 230,
     "metadata": {},
     "output_type": "execute_result"
    }
   ],
   "source": [
    "group_data =pd.DataFrame(data.groupby([\"LIFESTAGE\",\"PREMIUM_CUSTOMER\"])[\"TOT_SALES\"].agg([\"sum\",\"mean\"]))\n",
    "group_data.sort_values(ascending =False,by=\"sum\")"
   ]
  },
  {
   "cell_type": "code",
   "execution_count": 231,
   "metadata": {},
   "outputs": [
    {
     "data": {
      "text/plain": [
       "<matplotlib.axes._subplots.AxesSubplot at 0x20a75937e20>"
      ]
     },
     "execution_count": 231,
     "metadata": {},
     "output_type": "execute_result"
    },
    {
     "data": {
      "image/png": "[encoded data removed]",
      "text/plain": [
       "<Figure size 720x576 with 1 Axes>"
      ]
     },
     "metadata": {
      "needs_background": "light"
     },
     "output_type": "display_data"
    }
   ],
   "source": [
    "group_data[\"sum\"].sort_values().plot.barh(figsize=(10,8\n",
    "                                                  \n",
    "                                                  ))"
   ]
  },
  {
   "cell_type": "code",
   "execution_count": 232,
   "metadata": {},
   "outputs": [
    {
     "data": {
      "text/html": [
       "<div>\n",
       "<style scoped>\n",
       "    .dataframe tbody tr th:only-of-type {\n",
       "        vertical-align: middle;\n",
       "    }\n",
       "\n",
       "    .dataframe tbody tr th {\n",
       "        vertical-align: top;\n",
       "    }\n",
       "\n",
       "    .dataframe thead th {\n",
       "        text-align: right;\n",
       "    }\n",
       "</style>\n",
       "<table border=\"1\" class=\"dataframe\">\n",
       "  <thead>\n",
       "    <tr style=\"text-align: right;\">\n",
       "      <th></th>\n",
       "      <th></th>\n",
       "      <th>LYLTY_CARD_NBR</th>\n",
       "    </tr>\n",
       "    <tr>\n",
       "      <th>LIFESTAGE</th>\n",
       "      <th>PREMIUM_CUSTOMER</th>\n",
       "      <th></th>\n",
       "    </tr>\n",
       "  </thead>\n",
       "  <tbody>\n",
       "    <tr>\n",
       "      <th>YOUNG SINGLES/COUPLES</th>\n",
       "      <th>Mainstream</th>\n",
       "      <td>7917</td>\n",
       "    </tr>\n",
       "    <tr>\n",
       "      <th>RETIREES</th>\n",
       "      <th>Mainstream</th>\n",
       "      <td>6358</td>\n",
       "    </tr>\n",
       "    <tr>\n",
       "      <th rowspan=\"3\" valign=\"top\">OLDER SINGLES/COUPLES</th>\n",
       "      <th>Mainstream</th>\n",
       "      <td>4858</td>\n",
       "    </tr>\n",
       "    <tr>\n",
       "      <th>Budget</th>\n",
       "      <td>4849</td>\n",
       "    </tr>\n",
       "    <tr>\n",
       "      <th>Premium</th>\n",
       "      <td>4682</td>\n",
       "    </tr>\n",
       "    <tr>\n",
       "      <th>OLDER FAMILIES</th>\n",
       "      <th>Budget</th>\n",
       "      <td>4611</td>\n",
       "    </tr>\n",
       "    <tr>\n",
       "      <th>RETIREES</th>\n",
       "      <th>Budget</th>\n",
       "      <td>4385</td>\n",
       "    </tr>\n",
       "    <tr>\n",
       "      <th>YOUNG FAMILIES</th>\n",
       "      <th>Budget</th>\n",
       "      <td>3953</td>\n",
       "    </tr>\n",
       "    <tr>\n",
       "      <th>RETIREES</th>\n",
       "      <th>Premium</th>\n",
       "      <td>3812</td>\n",
       "    </tr>\n",
       "    <tr>\n",
       "      <th>YOUNG SINGLES/COUPLES</th>\n",
       "      <th>Budget</th>\n",
       "      <td>3647</td>\n",
       "    </tr>\n",
       "    <tr>\n",
       "      <th>MIDAGE SINGLES/COUPLES</th>\n",
       "      <th>Mainstream</th>\n",
       "      <td>3298</td>\n",
       "    </tr>\n",
       "    <tr>\n",
       "      <th>OLDER FAMILIES</th>\n",
       "      <th>Mainstream</th>\n",
       "      <td>2788</td>\n",
       "    </tr>\n",
       "    <tr>\n",
       "      <th>YOUNG FAMILIES</th>\n",
       "      <th>Mainstream</th>\n",
       "      <td>2685</td>\n",
       "    </tr>\n",
       "    <tr>\n",
       "      <th>YOUNG SINGLES/COUPLES</th>\n",
       "      <th>Premium</th>\n",
       "      <td>2480</td>\n",
       "    </tr>\n",
       "    <tr>\n",
       "      <th>YOUNG FAMILIES</th>\n",
       "      <th>Premium</th>\n",
       "      <td>2398</td>\n",
       "    </tr>\n",
       "    <tr>\n",
       "      <th>MIDAGE SINGLES/COUPLES</th>\n",
       "      <th>Premium</th>\n",
       "      <td>2369</td>\n",
       "    </tr>\n",
       "    <tr>\n",
       "      <th>OLDER FAMILIES</th>\n",
       "      <th>Premium</th>\n",
       "      <td>2231</td>\n",
       "    </tr>\n",
       "    <tr>\n",
       "      <th>MIDAGE SINGLES/COUPLES</th>\n",
       "      <th>Budget</th>\n",
       "      <td>1474</td>\n",
       "    </tr>\n",
       "    <tr>\n",
       "      <th rowspan=\"3\" valign=\"top\">NEW FAMILIES</th>\n",
       "      <th>Budget</th>\n",
       "      <td>1087</td>\n",
       "    </tr>\n",
       "    <tr>\n",
       "      <th>Mainstream</th>\n",
       "      <td>830</td>\n",
       "    </tr>\n",
       "    <tr>\n",
       "      <th>Premium</th>\n",
       "      <td>575</td>\n",
       "    </tr>\n",
       "  </tbody>\n",
       "</table>\n",
       "</div>"
      ],
      "text/plain": [
       "                                         LYLTY_CARD_NBR\n",
       "LIFESTAGE              PREMIUM_CUSTOMER                \n",
       "YOUNG SINGLES/COUPLES  Mainstream                  7917\n",
       "RETIREES               Mainstream                  6358\n",
       "OLDER SINGLES/COUPLES  Mainstream                  4858\n",
       "                       Budget                      4849\n",
       "                       Premium                     4682\n",
       "OLDER FAMILIES         Budget                      4611\n",
       "RETIREES               Budget                      4385\n",
       "YOUNG FAMILIES         Budget                      3953\n",
       "RETIREES               Premium                     3812\n",
       "YOUNG SINGLES/COUPLES  Budget                      3647\n",
       "MIDAGE SINGLES/COUPLES Mainstream                  3298\n",
       "OLDER FAMILIES         Mainstream                  2788\n",
       "YOUNG FAMILIES         Mainstream                  2685\n",
       "YOUNG SINGLES/COUPLES  Premium                     2480\n",
       "YOUNG FAMILIES         Premium                     2398\n",
       "MIDAGE SINGLES/COUPLES Premium                     2369\n",
       "OLDER FAMILIES         Premium                     2231\n",
       "MIDAGE SINGLES/COUPLES Budget                      1474\n",
       "NEW FAMILIES           Budget                      1087\n",
       "                       Mainstream                   830\n",
       "                       Premium                      575"
      ]
     },
     "execution_count": 232,
     "metadata": {},
     "output_type": "execute_result"
    }
   ],
   "source": [
    "# population of customer\n",
    "unique_cust =pd.DataFrame( data.groupby([\"LIFESTAGE\", \"PREMIUM_CUSTOMER\"])[\"LYLTY_CARD_NBR\"].\n",
    "                         nunique().sort_values(ascending=False))\n",
    "unique_cust"
   ]
  },
  {
   "cell_type": "code",
   "execution_count": 233,
   "metadata": {},
   "outputs": [
    {
     "data": {
      "text/plain": [
       "<matplotlib.axes._subplots.AxesSubplot at 0x20a73e57430>"
      ]
     },
     "execution_count": 233,
     "metadata": {},
     "output_type": "execute_result"
    },
    {
     "data": {
      "image/png": "[encoded data removed]",
      "text/plain": [
       "<Figure size 864x504 with 1 Axes>"
      ]
     },
     "metadata": {
      "needs_background": "light"
     },
     "output_type": "display_data"
    }
   ],
   "source": [
    "unique_cust.plot(kind=\"bar\",figsize=(12,7))"
   ]
  },
  {
   "cell_type": "code",
   "execution_count": 234,
   "metadata": {},
   "outputs": [
    {
     "data": {
      "text/html": [
       "<div>\n",
       "<style scoped>\n",
       "    .dataframe tbody tr th:only-of-type {\n",
       "        vertical-align: middle;\n",
       "    }\n",
       "\n",
       "    .dataframe tbody tr th {\n",
       "        vertical-align: top;\n",
       "    }\n",
       "\n",
       "    .dataframe thead th {\n",
       "        text-align: right;\n",
       "    }\n",
       "</style>\n",
       "<table border=\"1\" class=\"dataframe\">\n",
       "  <thead>\n",
       "    <tr style=\"text-align: right;\">\n",
       "      <th></th>\n",
       "      <th></th>\n",
       "      <th>mean</th>\n",
       "      <th>count</th>\n",
       "    </tr>\n",
       "    <tr>\n",
       "      <th>LIFESTAGE</th>\n",
       "      <th>PREMIUM_CUSTOMER</th>\n",
       "      <th></th>\n",
       "      <th></th>\n",
       "    </tr>\n",
       "  </thead>\n",
       "  <tbody>\n",
       "    <tr>\n",
       "      <th rowspan=\"3\" valign=\"top\">OLDER FAMILIES</th>\n",
       "      <th>Mainstream</th>\n",
       "      <td>4.749283</td>\n",
       "      <td>2788</td>\n",
       "    </tr>\n",
       "    <tr>\n",
       "      <th>Budget</th>\n",
       "      <td>4.665799</td>\n",
       "      <td>4611</td>\n",
       "    </tr>\n",
       "    <tr>\n",
       "      <th>Premium</th>\n",
       "      <td>4.662931</td>\n",
       "      <td>2231</td>\n",
       "    </tr>\n",
       "    <tr>\n",
       "      <th rowspan=\"3\" valign=\"top\">YOUNG FAMILIES</th>\n",
       "      <th>Premium</th>\n",
       "      <td>4.497081</td>\n",
       "      <td>2398</td>\n",
       "    </tr>\n",
       "    <tr>\n",
       "      <th>Budget</th>\n",
       "      <td>4.493549</td>\n",
       "      <td>3953</td>\n",
       "    </tr>\n",
       "    <tr>\n",
       "      <th>Mainstream</th>\n",
       "      <td>4.449534</td>\n",
       "      <td>2685</td>\n",
       "    </tr>\n",
       "    <tr>\n",
       "      <th rowspan=\"3\" valign=\"top\">OLDER SINGLES/COUPLES</th>\n",
       "      <th>Budget</th>\n",
       "      <td>3.541349</td>\n",
       "      <td>4849</td>\n",
       "    </tr>\n",
       "    <tr>\n",
       "      <th>Premium</th>\n",
       "      <td>3.536736</td>\n",
       "      <td>4682</td>\n",
       "    </tr>\n",
       "    <tr>\n",
       "      <th>Mainstream</th>\n",
       "      <td>3.511939</td>\n",
       "      <td>4858</td>\n",
       "    </tr>\n",
       "    <tr>\n",
       "      <th>MIDAGE SINGLES/COUPLES</th>\n",
       "      <th>Mainstream</th>\n",
       "      <td>3.364160</td>\n",
       "      <td>3298</td>\n",
       "    </tr>\n",
       "    <tr>\n",
       "      <th>RETIREES</th>\n",
       "      <th>Budget</th>\n",
       "      <td>3.244014</td>\n",
       "      <td>4385</td>\n",
       "    </tr>\n",
       "    <tr>\n",
       "      <th>MIDAGE SINGLES/COUPLES</th>\n",
       "      <th>Premium</th>\n",
       "      <td>3.213170</td>\n",
       "      <td>2369</td>\n",
       "    </tr>\n",
       "    <tr>\n",
       "      <th>RETIREES</th>\n",
       "      <th>Premium</th>\n",
       "      <td>3.209864</td>\n",
       "      <td>3812</td>\n",
       "    </tr>\n",
       "    <tr>\n",
       "      <th>MIDAGE SINGLES/COUPLES</th>\n",
       "      <th>Budget</th>\n",
       "      <td>3.182497</td>\n",
       "      <td>1474</td>\n",
       "    </tr>\n",
       "    <tr>\n",
       "      <th>RETIREES</th>\n",
       "      <th>Mainstream</th>\n",
       "      <td>3.140925</td>\n",
       "      <td>6358</td>\n",
       "    </tr>\n",
       "    <tr>\n",
       "      <th rowspan=\"3\" valign=\"top\">NEW FAMILIES</th>\n",
       "      <th>Mainstream</th>\n",
       "      <td>2.632530</td>\n",
       "      <td>830</td>\n",
       "    </tr>\n",
       "    <tr>\n",
       "      <th>Budget</th>\n",
       "      <td>2.597976</td>\n",
       "      <td>1087</td>\n",
       "    </tr>\n",
       "    <tr>\n",
       "      <th>Premium</th>\n",
       "      <td>2.587826</td>\n",
       "      <td>575</td>\n",
       "    </tr>\n",
       "    <tr>\n",
       "      <th rowspan=\"3\" valign=\"top\">YOUNG SINGLES/COUPLES</th>\n",
       "      <th>Mainstream</th>\n",
       "      <td>2.468612</td>\n",
       "      <td>7917</td>\n",
       "    </tr>\n",
       "    <tr>\n",
       "      <th>Premium</th>\n",
       "      <td>2.359677</td>\n",
       "      <td>2480</td>\n",
       "    </tr>\n",
       "    <tr>\n",
       "      <th>Budget</th>\n",
       "      <td>2.350699</td>\n",
       "      <td>3647</td>\n",
       "    </tr>\n",
       "  </tbody>\n",
       "</table>\n",
       "</div>"
      ],
      "text/plain": [
       "                                             mean  count\n",
       "LIFESTAGE              PREMIUM_CUSTOMER                 \n",
       "OLDER FAMILIES         Mainstream        4.749283   2788\n",
       "                       Budget            4.665799   4611\n",
       "                       Premium           4.662931   2231\n",
       "YOUNG FAMILIES         Premium           4.497081   2398\n",
       "                       Budget            4.493549   3953\n",
       "                       Mainstream        4.449534   2685\n",
       "OLDER SINGLES/COUPLES  Budget            3.541349   4849\n",
       "                       Premium           3.536736   4682\n",
       "                       Mainstream        3.511939   4858\n",
       "MIDAGE SINGLES/COUPLES Mainstream        3.364160   3298\n",
       "RETIREES               Budget            3.244014   4385\n",
       "MIDAGE SINGLES/COUPLES Premium           3.213170   2369\n",
       "RETIREES               Premium           3.209864   3812\n",
       "MIDAGE SINGLES/COUPLES Budget            3.182497   1474\n",
       "RETIREES               Mainstream        3.140925   6358\n",
       "NEW FAMILIES           Mainstream        2.632530    830\n",
       "                       Budget            2.597976   1087\n",
       "                       Premium           2.587826    575\n",
       "YOUNG SINGLES/COUPLES  Mainstream        2.468612   7917\n",
       "                       Premium           2.359677   2480\n",
       "                       Budget            2.350699   3647"
      ]
     },
     "execution_count": 234,
     "metadata": {},
     "output_type": "execute_result"
    }
   ],
   "source": [
    "freq_per_cust = data.groupby([\"LYLTY_CARD_NBR\", \"LIFESTAGE\", \"PREMIUM_CUSTOMER\"]).count()[\"DATE\"]\n",
    "freq_per_cust.groupby([\"LIFESTAGE\", \"PREMIUM_CUSTOMER\"]).agg([\"mean\", \"count\"]).sort_values(ascending=False, by=\"mean\")"
   ]
  },
  {
   "cell_type": "code",
   "execution_count": 235,
   "metadata": {},
   "outputs": [
    {
     "data": {
      "text/html": [
       "<div>\n",
       "<style scoped>\n",
       "    .dataframe tbody tr th:only-of-type {\n",
       "        vertical-align: middle;\n",
       "    }\n",
       "\n",
       "    .dataframe tbody tr th {\n",
       "        vertical-align: top;\n",
       "    }\n",
       "\n",
       "    .dataframe thead th {\n",
       "        text-align: right;\n",
       "    }\n",
       "</style>\n",
       "<table border=\"1\" class=\"dataframe\">\n",
       "  <thead>\n",
       "    <tr style=\"text-align: right;\">\n",
       "      <th></th>\n",
       "      <th>sum</th>\n",
       "    </tr>\n",
       "    <tr>\n",
       "      <th>Cleaned_Brand_Names</th>\n",
       "      <th></th>\n",
       "    </tr>\n",
       "  </thead>\n",
       "  <tbody>\n",
       "    <tr>\n",
       "      <th>Kettle</th>\n",
       "      <td>390239.8</td>\n",
       "    </tr>\n",
       "    <tr>\n",
       "      <th>Doritos</th>\n",
       "      <td>226329.9</td>\n",
       "    </tr>\n",
       "    <tr>\n",
       "      <th>Smiths</th>\n",
       "      <td>217486.0</td>\n",
       "    </tr>\n",
       "    <tr>\n",
       "      <th>Pringles</th>\n",
       "      <td>177655.5</td>\n",
       "    </tr>\n",
       "    <tr>\n",
       "      <th>Infuzions</th>\n",
       "      <td>99047.6</td>\n",
       "    </tr>\n",
       "    <tr>\n",
       "      <th>Thins</th>\n",
       "      <td>88852.5</td>\n",
       "    </tr>\n",
       "    <tr>\n",
       "      <th>RRD</th>\n",
       "      <td>87607.5</td>\n",
       "    </tr>\n",
       "    <tr>\n",
       "      <th>Twisties</th>\n",
       "      <td>81522.1</td>\n",
       "    </tr>\n",
       "    <tr>\n",
       "      <th>Tostitos</th>\n",
       "      <td>79789.6</td>\n",
       "    </tr>\n",
       "    <tr>\n",
       "      <th>Cobs</th>\n",
       "      <td>70569.8</td>\n",
       "    </tr>\n",
       "    <tr>\n",
       "      <th>Tyrrells</th>\n",
       "      <td>51647.4</td>\n",
       "    </tr>\n",
       "    <tr>\n",
       "      <th>Grain Waves</th>\n",
       "      <td>51617.2</td>\n",
       "    </tr>\n",
       "    <tr>\n",
       "      <th>Natural Chip Co</th>\n",
       "      <td>42318.0</td>\n",
       "    </tr>\n",
       "    <tr>\n",
       "      <th>Woolworths</th>\n",
       "      <td>41059.1</td>\n",
       "    </tr>\n",
       "    <tr>\n",
       "      <th>Cheezels</th>\n",
       "      <td>40029.9</td>\n",
       "    </tr>\n",
       "    <tr>\n",
       "      <th>CCs</th>\n",
       "      <td>18078.9</td>\n",
       "    </tr>\n",
       "    <tr>\n",
       "      <th>Cheetos</th>\n",
       "      <td>16884.5</td>\n",
       "    </tr>\n",
       "    <tr>\n",
       "      <th>Sunbites</th>\n",
       "      <td>9676.4</td>\n",
       "    </tr>\n",
       "    <tr>\n",
       "      <th>French</th>\n",
       "      <td>7929.0</td>\n",
       "    </tr>\n",
       "    <tr>\n",
       "      <th>Burger</th>\n",
       "      <td>6831.0</td>\n",
       "    </tr>\n",
       "  </tbody>\n",
       "</table>\n",
       "</div>"
      ],
      "text/plain": [
       "                          sum\n",
       "Cleaned_Brand_Names          \n",
       "Kettle               390239.8\n",
       "Doritos              226329.9\n",
       "Smiths               217486.0\n",
       "Pringles             177655.5\n",
       "Infuzions             99047.6\n",
       "Thins                 88852.5\n",
       "RRD                   87607.5\n",
       "Twisties              81522.1\n",
       "Tostitos              79789.6\n",
       "Cobs                  70569.8\n",
       "Tyrrells              51647.4\n",
       "Grain Waves           51617.2\n",
       "Natural Chip Co       42318.0\n",
       "Woolworths            41059.1\n",
       "Cheezels              40029.9\n",
       "CCs                   18078.9\n",
       "Cheetos               16884.5\n",
       "Sunbites               9676.4\n",
       "French                 7929.0\n",
       "Burger                 6831.0"
      ]
     },
     "execution_count": 235,
     "metadata": {},
     "output_type": "execute_result"
    }
   ],
   "source": [
    "data.groupby(['Cleaned_Brand_Names'])['TOT_SALES'].agg(['sum']).sort_values(by ='sum',ascending=False)"
   ]
  },
  {
   "cell_type": "code",
   "execution_count": 236,
   "metadata": {},
   "outputs": [
    {
     "name": "stdout",
     "output_type": "stream",
     "text": [
      "========== YOUNG SINGLES/COUPLES - Premium ==========\n",
      "134.0     537\n",
      "150.0     896\n",
      "175.0    1587\n",
      "Name: Pack_Size, dtype: int64\n"
     ]
    },
    {
     "data": {
      "image/png": "[encoded data removed]",
      "text/plain": [
       "<Figure size 360x72 with 1 Axes>"
      ]
     },
     "metadata": {
      "needs_background": "light"
     },
     "output_type": "display_data"
    },
    {
     "name": "stdout",
     "output_type": "stream",
     "text": [
      "========== YOUNG SINGLES/COUPLES - Mainstream ==========\n",
      "134.0    2315\n",
      "150.0    2998\n",
      "175.0    4928\n",
      "Name: Pack_Size, dtype: int64\n"
     ]
    },
    {
     "data": {
      "image/png": "[encoded data removed]",
      "text/plain": [
       "<Figure size 360x72 with 1 Axes>"
      ]
     },
     "metadata": {
      "needs_background": "light"
     },
     "output_type": "display_data"
    },
    {
     "name": "stdout",
     "output_type": "stream",
     "text": [
      "========== YOUNG SINGLES/COUPLES - Budget ==========\n",
      "134.0     832\n",
      "150.0    1325\n",
      "175.0    2262\n",
      "Name: Pack_Size, dtype: int64\n"
     ]
    },
    {
     "data": {
      "image/png": "[encoded data removed]",
      "text/plain": [
       "<Figure size 360x72 with 1 Axes>"
      ]
     },
     "metadata": {
      "needs_background": "light"
     },
     "output_type": "display_data"
    },
    {
     "name": "stdout",
     "output_type": "stream",
     "text": [
      "========== YOUNG FAMILIES - Premium ==========\n",
      "134.0    1007\n",
      "150.0    1697\n",
      "175.0    2926\n",
      "Name: Pack_Size, dtype: int64\n"
     ]
    },
    {
     "data": {
      "image/png": "[encoded data removed]",
      "text/plain": [
       "<Figure size 360x72 with 1 Axes>"
      ]
     },
     "metadata": {
      "needs_background": "light"
     },
     "output_type": "display_data"
    },
    {
     "name": "stdout",
     "output_type": "stream",
     "text": [
      "========== YOUNG FAMILIES - Mainstream ==========\n",
      "134.0    1148\n",
      "150.0    1927\n",
      "175.0    3087\n",
      "Name: Pack_Size, dtype: int64\n"
     ]
    },
    {
     "data": {
      "image/png": "[encoded data removed]",
      "text/plain": [
       "<Figure size 360x72 with 1 Axes>"
      ]
     },
     "metadata": {
      "needs_background": "light"
     },
     "output_type": "display_data"
    },
    {
     "name": "stdout",
     "output_type": "stream",
     "text": [
      "========== YOUNG FAMILIES - Budget ==========\n",
      "134.0    1674\n",
      "150.0    2749\n",
      "175.0    4800\n",
      "Name: Pack_Size, dtype: int64\n"
     ]
    },
    {
     "data": {
      "image/png": "[encoded data removed]",
      "text/plain": [
       "<Figure size 360x72 with 1 Axes>"
      ]
     },
     "metadata": {
      "needs_background": "light"
     },
     "output_type": "display_data"
    },
    {
     "name": "stdout",
     "output_type": "stream",
     "text": [
      "========== OLDER SINGLES/COUPLES - Premium ==========\n",
      "134.0    1744\n",
      "150.0    2672\n",
      "175.0    4381\n",
      "Name: Pack_Size, dtype: int64\n"
     ]
    },
    {
     "data": {
      "image/png": "[encoded data removed]",
      "text/plain": [
       "<Figure size 360x72 with 1 Axes>"
      ]
     },
     "metadata": {
      "needs_background": "light"
     },
     "output_type": "display_data"
    },
    {
     "name": "stdout",
     "output_type": "stream",
     "text": [
      "========== OLDER SINGLES/COUPLES - Mainstream ==========\n",
      "134.0    1720\n",
      "150.0    2660\n",
      "175.0    4422\n",
      "Name: Pack_Size, dtype: int64\n"
     ]
    },
    {
     "data": {
      "image/png": "[encoded data removed]",
      "text/plain": [
       "<Figure size 360x72 with 1 Axes>"
      ]
     },
     "metadata": {
      "needs_background": "light"
     },
     "output_type": "display_data"
    },
    {
     "name": "stdout",
     "output_type": "stream",
     "text": [
      "========== OLDER SINGLES/COUPLES - Budget ==========\n",
      "134.0    1843\n",
      "150.0    2726\n",
      "175.0    4535\n",
      "Name: Pack_Size, dtype: int64\n"
     ]
    },
    {
     "data": {
      "image/png": "[encoded data removed]",
      "text/plain": [
       "<Figure size 360x72 with 1 Axes>"
      ]
     },
     "metadata": {
      "needs_background": "light"
     },
     "output_type": "display_data"
    },
    {
     "name": "stdout",
     "output_type": "stream",
     "text": [
      "========== MIDAGE SINGLES/COUPLES - Premium ==========\n",
      "134.0     781\n",
      "150.0    1163\n",
      "175.0    2034\n",
      "Name: Pack_Size, dtype: int64\n"
     ]
    },
    {
     "data": {
      "image/png": "[encoded data removed]",
      "text/plain": [
       "<Figure size 360x72 with 1 Axes>"
      ]
     },
     "metadata": {
      "needs_background": "light"
     },
     "output_type": "display_data"
    },
    {
     "name": "stdout",
     "output_type": "stream",
     "text": [
      "========== MIDAGE SINGLES/COUPLES - Mainstream ==========\n",
      "134.0    1159\n",
      "150.0    1714\n",
      "175.0    2912\n",
      "Name: Pack_Size, dtype: int64\n"
     ]
    },
    {
     "data": {
      "image/png": "[encoded data removed]",
      "text/plain": [
       "<Figure size 360x72 with 1 Axes>"
      ]
     },
     "metadata": {
      "needs_background": "light"
     },
     "output_type": "display_data"
    },
    {
     "name": "stdout",
     "output_type": "stream",
     "text": [
      "========== MIDAGE SINGLES/COUPLES - Budget ==========\n",
      "134.0     449\n",
      "150.0     746\n",
      "175.0    1256\n",
      "Name: Pack_Size, dtype: int64\n"
     ]
    },
    {
     "data": {
      "image/png": "[encoded data removed]",
      "text/plain": [
       "<Figure size 360x72 with 1 Axes>"
      ]
     },
     "metadata": {
      "needs_background": "light"
     },
     "output_type": "display_data"
    },
    {
     "name": "stdout",
     "output_type": "stream",
     "text": [
      "========== NEW FAMILIES - Premium ==========\n",
      "134.0    165\n",
      "150.0    225\n",
      "175.0    371\n",
      "Name: Pack_Size, dtype: int64\n"
     ]
    },
    {
     "data": {
      "image/png": "[encoded data removed]",
      "text/plain": [
       "<Figure size 360x72 with 1 Axes>"
      ]
     },
     "metadata": {
      "needs_background": "light"
     },
     "output_type": "display_data"
    },
    {
     "name": "stdout",
     "output_type": "stream",
     "text": [
      "========== NEW FAMILIES - Mainstream ==========\n",
      "134.0    224\n",
      "150.0    362\n",
      "175.0    579\n",
      "Name: Pack_Size, dtype: int64\n"
     ]
    },
    {
     "data": {
      "image/png": "[encoded data removed]",
      "text/plain": [
       "<Figure size 360x72 with 1 Axes>"
      ]
     },
     "metadata": {
      "needs_background": "light"
     },
     "output_type": "display_data"
    },
    {
     "name": "stdout",
     "output_type": "stream",
     "text": [
      "========== NEW FAMILIES - Budget ==========\n",
      "134.0    309\n",
      "150.0    425\n",
      "175.0    763\n",
      "Name: Pack_Size, dtype: int64\n"
     ]
    },
    {
     "data": {
      "image/png": "[encoded data removed]",
      "text/plain": [
       "<Figure size 360x72 with 1 Axes>"
      ]
     },
     "metadata": {
      "needs_background": "light"
     },
     "output_type": "display_data"
    },
    {
     "name": "stdout",
     "output_type": "stream",
     "text": [
      "========== OLDER FAMILIES - Premium ==========\n",
      "134.0    1014\n",
      "150.0    1607\n",
      "175.0    2747\n",
      "Name: Pack_Size, dtype: int64\n"
     ]
    },
    {
     "data": {
      "image/png": "[encoded data removed]",
      "text/plain": [
       "<Figure size 360x72 with 1 Axes>"
      ]
     },
     "metadata": {
      "needs_background": "light"
     },
     "output_type": "display_data"
    },
    {
     "name": "stdout",
     "output_type": "stream",
     "text": [
      "========== OLDER FAMILIES - Mainstream ==========\n",
      "134.0    1234\n",
      "150.0    2091\n",
      "175.0    3489\n",
      "Name: Pack_Size, dtype: int64\n"
     ]
    },
    {
     "data": {
      "image/png": "[encoded data removed]",
      "text/plain": [
       "<Figure size 360x72 with 1 Axes>"
      ]
     },
     "metadata": {
      "needs_background": "light"
     },
     "output_type": "display_data"
    },
    {
     "name": "stdout",
     "output_type": "stream",
     "text": [
      "========== OLDER FAMILIES - Budget ==========\n",
      "134.0    1996\n",
      "150.0    3414\n",
      "175.0    5662\n",
      "Name: Pack_Size, dtype: int64\n"
     ]
    },
    {
     "data": {
      "image/png": "[encoded data removed]",
      "text/plain": [
       "<Figure size 360x72 with 1 Axes>"
      ]
     },
     "metadata": {
      "needs_background": "light"
     },
     "output_type": "display_data"
    },
    {
     "name": "stdout",
     "output_type": "stream",
     "text": [
      "========== RETIREES - Premium ==========\n",
      "134.0    1331\n",
      "150.0    1883\n",
      "175.0    3232\n",
      "Name: Pack_Size, dtype: int64\n"
     ]
    },
    {
     "data": {
      "image/png": "[encoded data removed]",
      "text/plain": [
       "<Figure size 360x72 with 1 Axes>"
      ]
     },
     "metadata": {
      "needs_background": "light"
     },
     "output_type": "display_data"
    },
    {
     "name": "stdout",
     "output_type": "stream",
     "text": [
      "========== RETIREES - Mainstream ==========\n",
      "134.0    2103\n",
      "150.0    3183\n",
      "175.0    5187\n",
      "Name: Pack_Size, dtype: int64\n"
     ]
    },
    {
     "data": {
      "image/png": "[encoded data removed]",
      "text/plain": [
       "<Figure size 360x72 with 1 Axes>"
      ]
     },
     "metadata": {
      "needs_background": "light"
     },
     "output_type": "display_data"
    },
    {
     "name": "stdout",
     "output_type": "stream",
     "text": [
      "========== RETIREES - Budget ==========\n",
      "134.0    1517\n",
      "150.0    2242\n",
      "175.0    3768\n",
      "Name: Pack_Size, dtype: int64\n"
     ]
    },
    {
     "data": {
      "image/png": "[encoded data removed]",
      "text/plain": [
       "<Figure size 360x72 with 1 Axes>"
      ]
     },
     "metadata": {
      "needs_background": "light"
     },
     "output_type": "display_data"
    }
   ],
   "source": [
    "# see the most frequent bought chips packe\n",
    "\n",
    "merged_pack = pd.concat([data, pack_sizes.rename(\"Pack_Size\")], axis=1)\n",
    "\n",
    "for stage in data[\"LIFESTAGE\"].unique():\n",
    "    for prem in data[\"PREMIUM_CUSTOMER\"].unique():\n",
    "        print('==========',stage, '-', prem,'==========')\n",
    "        summary = merged_pack[(merged_pack[\"LIFESTAGE\"] == stage) & (merged_pack[\"PREMIUM_CUSTOMER\"] == prem)][\"Pack_Size\"].value_counts().head(3).sort_index()\n",
    "        print(summary)\n",
    "        plt.figure()\n",
    "        summary.plot.barh(figsize=(5,1))\n",
    "        plt.show()\n"
   ]
  },
  {
   "cell_type": "code",
   "execution_count": 237,
   "metadata": {
    "scrolled": true
   },
   "outputs": [
    {
     "data": {
      "text/plain": [
       "<matplotlib.axes._subplots.AxesSubplot at 0x20a7249f100>"
      ]
     },
     "execution_count": 237,
     "metadata": {},
     "output_type": "execute_result"
    },
    {
     "data": {
      "image/png": "[encoded data removed]",
      "text/plain": [
       "<Figure size 432x288 with 1 Axes>"
      ]
     },
     "metadata": {
      "needs_background": "light"
     },
     "output_type": "display_data"
    }
   ],
   "source": [
    "data.groupby(\"LIFESTAGE\").PROD_QTY.agg('sum').plot(kind='bar')"
   ]
  },
  {
   "cell_type": "code",
   "execution_count": 238,
   "metadata": {},
   "outputs": [
    {
     "data": {
      "text/plain": [
       "<matplotlib.axes._subplots.AxesSubplot at 0x20a07b14070>"
      ]
     },
     "execution_count": 238,
     "metadata": {},
     "output_type": "execute_result"
    },
    {
     "data": {
      "image/png": "[encoded data removed]",
      "text/plain": [
       "<Figure size 432x288 with 1 Axes>"
      ]
     },
     "metadata": {
      "needs_background": "light"
     },
     "output_type": "display_data"
    }
   ],
   "source": [
    "data.groupby(\"PREMIUM_CUSTOMER\").PROD_QTY.agg('sum').plot(kind='bar')"
   ]
  },
  {
   "cell_type": "code",
   "execution_count": 239,
   "metadata": {},
   "outputs": [
    {
     "data": {
      "text/plain": [
       "<matplotlib.axes._subplots.AxesSubplot at 0x20a14633400>"
      ]
     },
     "execution_count": 239,
     "metadata": {},
     "output_type": "execute_result"
    },
    {
     "data": {
      "image/png": "[encoded data removed]",
      "text/plain": [
       "<Figure size 432x288 with 1 Axes>"
      ]
     },
     "metadata": {
      "needs_background": "light"
     },
     "output_type": "display_data"
    }
   ],
   "source": [
    "data.groupby(\"PREMIUM_CUSTOMER\").TOT_SALES.agg('sum').plot(kind='bar')"
   ]
  },
  {
   "cell_type": "markdown",
   "metadata": {},
   "source": [
    "# Insights"
   ]
  },
  {
   "cell_type": "markdown",
   "metadata": {},
   "source": [
    "- Top 3 Total sales contrubutor segments are\n",
    "   -    older singles/couples(budgest) 156863.75/$\n",
    "   \n",
    "   -    young singles/couples(Mainstream) 147582.20/$\n",
    "   \n",
    "   -    Retires(mainstream) 145168.95/$\n",
    "\n",
    "- Mainstream have highest Total sales by Premium_customer wise \n",
    "\n",
    "- Mainstream have highest quantity of sales by Premium_customer wise\n",
    "\n",
    "- overall older singles/couples have highest total sales\n",
    "\n",
    "- Young Singles/Couples (Mainstream) has the highest population, followed by Retirees (Mainstream). Which explains their high total sales.\n",
    "\n",
    "- Despite Older Families not having the highest population, they have the highest frequency of purchase, which contributes to their high total sales.\n",
    "\n",
    "- Chips brand Kettle is dominating every segment as the most purchased brand, Doritos and Smiths comes after that.\n",
    "\n",
    "- Most frequent chip size purchased is 175gr followed by the 150gr chip size for all segments."
   ]
  },
  {
   "cell_type": "markdown",
   "metadata": {},
   "source": [
    "# Recommendations"
   ]
  },
  {
   "cell_type": "markdown",
   "metadata": {},
   "source": [
    "- older singles/couples\n",
    "\n",
    "  - focus of budget\n",
    "  \n",
    "  - Strength: this is the group who buy most frequently, we can encourage by giving offers for buying more frequently\n",
    "  \n",
    "- young singles/couples \n",
    "\n",
    " - focus on Mainstream\n",
    " \n",
    " - Strength: Population quantity. We can spend more effort on making sure our promotions reach them, and it reaches them frequently.\n",
    "\n",
    "- Retires\n",
    "\n",
    "  -  focus on mainstream\n",
    "  \n",
    "  - strength: 2nd in total sales and 3rd in populateion for buying product\n",
    "  \n",
    "- overall\n",
    "\n",
    " - All segments has Kettle as the most frequently purchased brand, and 175gr (regardless of brand) followed by 150gr as the preferred chip size.\n",
    " \n",
    " - When promoting chips in general to all segments it is good to take advantage of these two points."
   ]
  },
  {
   "cell_type": "code",
   "execution_count": null,
   "metadata": {},
   "outputs": [],
   "source": []
  }
 ],
 "metadata": {
  "kernelspec": {
   "display_name": "Python 3",
   "language": "python",
   "name": "python3"
  },
  "language_info": {
   "codemirror_mode": {
    "name": "ipython",
    "version": 3
   },
   "file_extension": ".py",
   "mimetype": "text/x-python",
   "name": "python",
   "nbconvert_exporter": "python",
   "pygments_lexer": "ipython3",
   "version": "3.8.3"
  }
 },
 "nbformat": 4,
 "nbformat_minor": 4
}
